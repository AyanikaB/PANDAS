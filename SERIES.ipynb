{
 "cells": [
  {
   "cell_type": "code",
   "execution_count": 1,
   "id": "c1928253",
   "metadata": {},
   "outputs": [],
   "source": [
    "import pandas as pd\n",
    "import numpy as np"
   ]
  },
  {
   "cell_type": "markdown",
   "id": "3de46a89",
   "metadata": {},
   "source": [
    "### pandas series"
   ]
  },
  {
   "cell_type": "markdown",
   "id": "250cf3fe",
   "metadata": {},
   "source": [
    "we will start analysing population and for that we will use pandas.Series object"
   ]
  },
  {
   "cell_type": "code",
   "execution_count": 3,
   "id": "01e80a76",
   "metadata": {},
   "outputs": [
    {
     "data": {
      "text/plain": [
       "0     23.456\n",
       "1     78.232\n",
       "2     81.112\n",
       "3    133.229\n",
       "4    433.124\n",
       "5     30.999\n",
       "dtype: float64"
      ]
     },
     "execution_count": 3,
     "metadata": {},
     "output_type": "execute_result"
    }
   ],
   "source": [
    "pop=pd.Series((23.456, 78.232,81.112,133.229,433.124,30.999))\n",
    "pop"
   ]
  },
  {
   "cell_type": "code",
   "execution_count": 4,
   "id": "27c5fd74",
   "metadata": {},
   "outputs": [],
   "source": [
    "pop.name='Population in Millions'"
   ]
  },
  {
   "cell_type": "code",
   "execution_count": 5,
   "id": "398ba7b4",
   "metadata": {},
   "outputs": [
    {
     "data": {
      "text/plain": [
       "0     23.456\n",
       "1     78.232\n",
       "2     81.112\n",
       "3    133.229\n",
       "4    433.124\n",
       "5     30.999\n",
       "Name: Population in Millions, dtype: float64"
      ]
     },
     "execution_count": 5,
     "metadata": {},
     "output_type": "execute_result"
    }
   ],
   "source": [
    "pop  #series are pretty similar to numpy arrays"
   ]
  },
  {
   "cell_type": "code",
   "execution_count": 6,
   "id": "9a3302cd",
   "metadata": {},
   "outputs": [
    {
     "data": {
      "text/plain": [
       "dtype('float64')"
      ]
     },
     "execution_count": 6,
     "metadata": {},
     "output_type": "execute_result"
    }
   ],
   "source": [
    "pop.dtype"
   ]
  },
  {
   "cell_type": "code",
   "execution_count": 7,
   "id": "4a75870e",
   "metadata": {},
   "outputs": [
    {
     "data": {
      "text/plain": [
       "array([ 23.456,  78.232,  81.112, 133.229, 433.124,  30.999])"
      ]
     },
     "execution_count": 7,
     "metadata": {},
     "output_type": "execute_result"
    }
   ],
   "source": [
    "pop.values        #they are backed by numpy values"
   ]
  },
  {
   "cell_type": "code",
   "execution_count": 8,
   "id": "589c3dc8",
   "metadata": {},
   "outputs": [
    {
     "data": {
      "text/plain": [
       "numpy.ndarray"
      ]
     },
     "execution_count": 8,
     "metadata": {},
     "output_type": "execute_result"
    }
   ],
   "source": [
    "type(pop.values)"
   ]
  },
  {
   "cell_type": "code",
   "execution_count": null,
   "id": "32e865db",
   "metadata": {},
   "outputs": [],
   "source": [
    "#they look like simple python lists or numpy arrays. A series hs an index."
   ]
  },
  {
   "cell_type": "code",
   "execution_count": null,
   "id": "c2cb4d74",
   "metadata": {},
   "outputs": [],
   "source": [
    "# we can define the index in a series"
   ]
  },
  {
   "cell_type": "code",
   "execution_count": 9,
   "id": "8bf49689",
   "metadata": {},
   "outputs": [],
   "source": [
    "pop.index=['Canada','India','China','Africa','UK','Germany']"
   ]
  },
  {
   "cell_type": "code",
   "execution_count": 10,
   "id": "860f6bf1",
   "metadata": {},
   "outputs": [
    {
     "data": {
      "text/plain": [
       "Canada      23.456\n",
       "India       78.232\n",
       "China       81.112\n",
       "Africa     133.229\n",
       "UK         433.124\n",
       "Germany     30.999\n",
       "Name: Population in Millions, dtype: float64"
      ]
     },
     "execution_count": 10,
     "metadata": {},
     "output_type": "execute_result"
    }
   ],
   "source": [
    "pop"
   ]
  },
  {
   "cell_type": "code",
   "execution_count": 16,
   "id": "732dcf6f",
   "metadata": {},
   "outputs": [
    {
     "data": {
      "text/plain": [
       "Canada      23.456\n",
       "India       78.232\n",
       "China       81.112\n",
       "Africa     133.229\n",
       "UK         433.124\n",
       "Germany     30.999\n",
       "Name: Population in Millions, dtype: float64"
      ]
     },
     "execution_count": 16,
     "metadata": {},
     "output_type": "execute_result"
    }
   ],
   "source": [
    "# other ways of creating series\n",
    "pd.Series({'Canada':  23.456,'India':78.232,'China':81.112,'Africa':133.229,'UK':433.124,'Germany':30.999},\n",
    "name='Population in Millions')"
   ]
  },
  {
   "cell_type": "code",
   "execution_count": 17,
   "id": "10bd9eea",
   "metadata": {},
   "outputs": [
    {
     "data": {
      "text/plain": [
       "India      78.232\n",
       "UK        433.124\n",
       "Africa    133.229\n",
       "Spain         NaN\n",
       "Name: Population in Millions, dtype: float64"
      ]
     },
     "execution_count": 17,
     "metadata": {},
     "output_type": "execute_result"
    }
   ],
   "source": [
    "pd.Series(pop, index=['India','UK','Africa','Spain'])"
   ]
  },
  {
   "cell_type": "markdown",
   "id": "26fcb064",
   "metadata": {},
   "source": [
    "### Indexing"
   ]
  },
  {
   "cell_type": "code",
   "execution_count": 18,
   "id": "95c209fc",
   "metadata": {},
   "outputs": [
    {
     "data": {
      "text/plain": [
       "133.229"
      ]
     },
     "execution_count": 18,
     "metadata": {},
     "output_type": "execute_result"
    }
   ],
   "source": [
    "pop['Africa']"
   ]
  },
  {
   "cell_type": "code",
   "execution_count": 20,
   "id": "037b31f9",
   "metadata": {},
   "outputs": [
    {
     "data": {
      "text/plain": [
       "81.112"
      ]
     },
     "execution_count": 20,
     "metadata": {},
     "output_type": "execute_result"
    }
   ],
   "source": [
    "# numeric position can be used with the iloc attribute\n",
    "pop.iloc[2]"
   ]
  },
  {
   "cell_type": "code",
   "execution_count": 21,
   "id": "1ad1f1f7",
   "metadata": {},
   "outputs": [
    {
     "data": {
      "text/plain": [
       "Canada     23.456\n",
       "India      78.232\n",
       "China      81.112\n",
       "Africa    133.229\n",
       "Name: Population in Millions, dtype: float64"
      ]
     },
     "execution_count": 21,
     "metadata": {},
     "output_type": "execute_result"
    }
   ],
   "source": [
    "# Slicing also works in pandas but the UPPER LIMIT IS ALSO INCLUDED UNLIKE OTHERS.\n",
    "pop['Canada':'Africa']"
   ]
  },
  {
   "cell_type": "code",
   "execution_count": 23,
   "id": "233641c7",
   "metadata": {},
   "outputs": [
    {
     "data": {
      "text/plain": [
       "Canada     False\n",
       "India       True\n",
       "China       True\n",
       "Africa      True\n",
       "UK          True\n",
       "Germany    False\n",
       "Name: Population in Millions, dtype: bool"
      ]
     },
     "execution_count": 23,
     "metadata": {},
     "output_type": "execute_result"
    }
   ],
   "source": [
    "#Boolean\n",
    "pop>70"
   ]
  },
  {
   "cell_type": "code",
   "execution_count": 25,
   "id": "fd03553c",
   "metadata": {},
   "outputs": [
    {
     "data": {
      "text/plain": [
       "India      78.232\n",
       "China      81.112\n",
       "Africa    133.229\n",
       "UK        433.124\n",
       "Name: Population in Millions, dtype: float64"
      ]
     },
     "execution_count": 25,
     "metadata": {},
     "output_type": "execute_result"
    }
   ],
   "source": [
    "pop[pop>70]"
   ]
  },
  {
   "cell_type": "code",
   "execution_count": 26,
   "id": "e55ee857",
   "metadata": {},
   "outputs": [
    {
     "data": {
      "text/plain": [
       "130.02533333333335"
      ]
     },
     "execution_count": 26,
     "metadata": {},
     "output_type": "execute_result"
    }
   ],
   "source": [
    "pop.mean()"
   ]
  },
  {
   "cell_type": "code",
   "execution_count": 27,
   "id": "400e1145",
   "metadata": {},
   "outputs": [
    {
     "data": {
      "text/plain": [
       "Canada      23456000.0\n",
       "India       78232000.0\n",
       "China       81112000.0\n",
       "Africa     133229000.0\n",
       "UK         433124000.0\n",
       "Germany     30999000.0\n",
       "Name: Population in Millions, dtype: float64"
      ]
     },
     "execution_count": 27,
     "metadata": {},
     "output_type": "execute_result"
    }
   ],
   "source": [
    "# Mathematical Operations\n",
    "pop*1000000"
   ]
  },
  {
   "cell_type": "code",
   "execution_count": 28,
   "id": "efb199fd",
   "metadata": {},
   "outputs": [
    {
     "data": {
      "text/plain": [
       "Canada     3.155126\n",
       "India      4.359679\n",
       "China      4.395831\n",
       "Africa     4.892069\n",
       "UK         6.071024\n",
       "Germany    3.433955\n",
       "Name: Population in Millions, dtype: float64"
      ]
     },
     "execution_count": 28,
     "metadata": {},
     "output_type": "execute_result"
    }
   ],
   "source": [
    "np.log(pop)"
   ]
  },
  {
   "cell_type": "code",
   "execution_count": 29,
   "id": "4ed681e8",
   "metadata": {},
   "outputs": [
    {
     "data": {
      "text/plain": [
       "Canada     23.456\n",
       "India      78.232\n",
       "China      81.112\n",
       "Germany    30.999\n",
       "Name: Population in Millions, dtype: float64"
      ]
     },
     "execution_count": 29,
     "metadata": {},
     "output_type": "execute_result"
    }
   ],
   "source": [
    "pop[(pop>20)&(pop<100)]"
   ]
  },
  {
   "cell_type": "code",
   "execution_count": 32,
   "id": "5df2fa42",
   "metadata": {},
   "outputs": [
    {
     "data": {
      "text/plain": [
       "Canada      25.788\n",
       "India       78.232\n",
       "China       81.112\n",
       "Africa     133.229\n",
       "UK         433.124\n",
       "Germany     30.999\n",
       "Name: Population in Millions, dtype: object"
      ]
     },
     "execution_count": 32,
     "metadata": {},
     "output_type": "execute_result"
    }
   ],
   "source": [
    "#MODIFYING SERIES\n",
    "pop['Canada']=25.788\n",
    "pop"
   ]
  },
  {
   "cell_type": "code",
   "execution_count": 34,
   "id": "572fbe01",
   "metadata": {},
   "outputs": [
    {
     "data": {
      "text/plain": [
       "Canada      25.788\n",
       "India       78.232\n",
       "China       81.112\n",
       "Africa     133.229\n",
       "UK         433.124\n",
       "Germany     50.881\n",
       "Name: Population in Millions, dtype: object"
      ]
     },
     "execution_count": 34,
     "metadata": {},
     "output_type": "execute_result"
    }
   ],
   "source": [
    "pop.iloc[-1]=50.881\n",
    "pop"
   ]
  },
  {
   "cell_type": "code",
   "execution_count": 35,
   "id": "990077f2",
   "metadata": {},
   "outputs": [
    {
     "data": {
      "text/plain": [
       "Canada      99.999\n",
       "India       78.232\n",
       "China       81.112\n",
       "Africa     133.229\n",
       "UK         433.124\n",
       "Germany     99.999\n",
       "Name: Population in Millions, dtype: object"
      ]
     },
     "execution_count": 35,
     "metadata": {},
     "output_type": "execute_result"
    }
   ],
   "source": [
    "pop[pop<70]=99.999\n",
    "pop"
   ]
  },
  {
   "cell_type": "code",
   "execution_count": null,
   "id": "be506f95",
   "metadata": {},
   "outputs": [],
   "source": []
  }
 ],
 "metadata": {
  "kernelspec": {
   "display_name": "Python 3 (ipykernel)",
   "language": "python",
   "name": "python3"
  },
  "language_info": {
   "codemirror_mode": {
    "name": "ipython",
    "version": 3
   },
   "file_extension": ".py",
   "mimetype": "text/x-python",
   "name": "python",
   "nbconvert_exporter": "python",
   "pygments_lexer": "ipython3",
   "version": "3.11.1"
  }
 },
 "nbformat": 4,
 "nbformat_minor": 5
}

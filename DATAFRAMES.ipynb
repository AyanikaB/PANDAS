{
 "cells": [
  {
   "cell_type": "code",
   "execution_count": 1,
   "id": "787358b6",
   "metadata": {},
   "outputs": [],
   "source": [
    "import numpy as np\n",
    "import pandas as pd"
   ]
  },
  {
   "cell_type": "markdown",
   "id": "db1e9ad9",
   "metadata": {},
   "source": [
    "DataFrame looks a lot like a table--\n",
    "Creating DataFrames manually can be tedious. 99% of the time you'll be pulling the data from a Database, a csv file or the web. But still, you can create a DataFrame by specifying the columns and values"
   ]
  },
  {
   "cell_type": "code",
   "execution_count": 2,
   "id": "b791101f",
   "metadata": {},
   "outputs": [
    {
     "data": {
      "text/html": [
       "<div>\n",
       "<style scoped>\n",
       "    .dataframe tbody tr th:only-of-type {\n",
       "        vertical-align: middle;\n",
       "    }\n",
       "\n",
       "    .dataframe tbody tr th {\n",
       "        vertical-align: top;\n",
       "    }\n",
       "\n",
       "    .dataframe thead th {\n",
       "        text-align: right;\n",
       "    }\n",
       "</style>\n",
       "<table border=\"1\" class=\"dataframe\">\n",
       "  <thead>\n",
       "    <tr style=\"text-align: right;\">\n",
       "      <th></th>\n",
       "      <th>Population</th>\n",
       "      <th>GDP</th>\n",
       "      <th>Surface Area</th>\n",
       "      <th>HDI</th>\n",
       "      <th>Continent</th>\n",
       "    </tr>\n",
       "  </thead>\n",
       "  <tbody>\n",
       "    <tr>\n",
       "      <th>0</th>\n",
       "      <td>35.467</td>\n",
       "      <td>1785387</td>\n",
       "      <td>9984670</td>\n",
       "      <td>0.913</td>\n",
       "      <td>America</td>\n",
       "    </tr>\n",
       "    <tr>\n",
       "      <th>1</th>\n",
       "      <td>63.951</td>\n",
       "      <td>2833687</td>\n",
       "      <td>640679</td>\n",
       "      <td>0.888</td>\n",
       "      <td>Europe</td>\n",
       "    </tr>\n",
       "    <tr>\n",
       "      <th>2</th>\n",
       "      <td>80.940</td>\n",
       "      <td>3874437</td>\n",
       "      <td>357114</td>\n",
       "      <td>0.916</td>\n",
       "      <td>Europe</td>\n",
       "    </tr>\n",
       "    <tr>\n",
       "      <th>3</th>\n",
       "      <td>60.665</td>\n",
       "      <td>2167744</td>\n",
       "      <td>301336</td>\n",
       "      <td>0.873</td>\n",
       "      <td>Europe</td>\n",
       "    </tr>\n",
       "    <tr>\n",
       "      <th>4</th>\n",
       "      <td>127.061</td>\n",
       "      <td>4602367</td>\n",
       "      <td>377930</td>\n",
       "      <td>0.891</td>\n",
       "      <td>Asia</td>\n",
       "    </tr>\n",
       "    <tr>\n",
       "      <th>5</th>\n",
       "      <td>64.511</td>\n",
       "      <td>2950039</td>\n",
       "      <td>242495</td>\n",
       "      <td>0.907</td>\n",
       "      <td>Europe</td>\n",
       "    </tr>\n",
       "    <tr>\n",
       "      <th>6</th>\n",
       "      <td>318.523</td>\n",
       "      <td>17348075</td>\n",
       "      <td>9525067</td>\n",
       "      <td>0.915</td>\n",
       "      <td>America</td>\n",
       "    </tr>\n",
       "  </tbody>\n",
       "</table>\n",
       "</div>"
      ],
      "text/plain": [
       "   Population       GDP  Surface Area    HDI Continent\n",
       "0      35.467   1785387       9984670  0.913   America\n",
       "1      63.951   2833687        640679  0.888    Europe\n",
       "2      80.940   3874437        357114  0.916    Europe\n",
       "3      60.665   2167744        301336  0.873    Europe\n",
       "4     127.061   4602367        377930  0.891      Asia\n",
       "5      64.511   2950039        242495  0.907    Europe\n",
       "6     318.523  17348075       9525067  0.915   America"
      ]
     },
     "execution_count": 2,
     "metadata": {},
     "output_type": "execute_result"
    }
   ],
   "source": [
    "df = pd.DataFrame({\n",
    "    'Population': [35.467, 63.951, 80.94 , 60.665, 127.061, 64.511, 318.523],\n",
    "    'GDP': [\n",
    "        1785387,\n",
    "        2833687,\n",
    "        3874437,\n",
    "        2167744,\n",
    "        4602367,\n",
    "        2950039,\n",
    "        17348075\n",
    "    ],\n",
    "    'Surface Area': [\n",
    "        9984670,\n",
    "        640679,\n",
    "        357114,\n",
    "        301336,\n",
    "        377930,\n",
    "        242495,\n",
    "        9525067\n",
    "    ],\n",
    "    'HDI': [\n",
    "        0.913,\n",
    "        0.888,\n",
    "        0.916,\n",
    "        0.873,\n",
    "        0.891,\n",
    "        0.907,\n",
    "        0.915\n",
    "    ],\n",
    "    'Continent': [\n",
    "        'America',\n",
    "        'Europe',\n",
    "        'Europe',\n",
    "        'Europe',\n",
    "        'Asia',\n",
    "        'Europe',\n",
    "        'America'\n",
    "    ]\n",
    "}, columns=['Population', 'GDP', 'Surface Area', 'HDI', 'Continent'])\n",
    "df"
   ]
  },
  {
   "cell_type": "code",
   "execution_count": 3,
   "id": "f844c7d3",
   "metadata": {},
   "outputs": [
    {
     "data": {
      "text/html": [
       "<div>\n",
       "<style scoped>\n",
       "    .dataframe tbody tr th:only-of-type {\n",
       "        vertical-align: middle;\n",
       "    }\n",
       "\n",
       "    .dataframe tbody tr th {\n",
       "        vertical-align: top;\n",
       "    }\n",
       "\n",
       "    .dataframe thead th {\n",
       "        text-align: right;\n",
       "    }\n",
       "</style>\n",
       "<table border=\"1\" class=\"dataframe\">\n",
       "  <thead>\n",
       "    <tr style=\"text-align: right;\">\n",
       "      <th></th>\n",
       "      <th>Population</th>\n",
       "      <th>GDP</th>\n",
       "      <th>Surface Area</th>\n",
       "      <th>HDI</th>\n",
       "      <th>Continent</th>\n",
       "    </tr>\n",
       "  </thead>\n",
       "  <tbody>\n",
       "    <tr>\n",
       "      <th>Canada</th>\n",
       "      <td>35.467</td>\n",
       "      <td>1785387</td>\n",
       "      <td>9984670</td>\n",
       "      <td>0.913</td>\n",
       "      <td>America</td>\n",
       "    </tr>\n",
       "    <tr>\n",
       "      <th>France</th>\n",
       "      <td>63.951</td>\n",
       "      <td>2833687</td>\n",
       "      <td>640679</td>\n",
       "      <td>0.888</td>\n",
       "      <td>Europe</td>\n",
       "    </tr>\n",
       "    <tr>\n",
       "      <th>Germany</th>\n",
       "      <td>80.940</td>\n",
       "      <td>3874437</td>\n",
       "      <td>357114</td>\n",
       "      <td>0.916</td>\n",
       "      <td>Europe</td>\n",
       "    </tr>\n",
       "    <tr>\n",
       "      <th>Italy</th>\n",
       "      <td>60.665</td>\n",
       "      <td>2167744</td>\n",
       "      <td>301336</td>\n",
       "      <td>0.873</td>\n",
       "      <td>Europe</td>\n",
       "    </tr>\n",
       "    <tr>\n",
       "      <th>Japan</th>\n",
       "      <td>127.061</td>\n",
       "      <td>4602367</td>\n",
       "      <td>377930</td>\n",
       "      <td>0.891</td>\n",
       "      <td>Asia</td>\n",
       "    </tr>\n",
       "    <tr>\n",
       "      <th>United Kingdom</th>\n",
       "      <td>64.511</td>\n",
       "      <td>2950039</td>\n",
       "      <td>242495</td>\n",
       "      <td>0.907</td>\n",
       "      <td>Europe</td>\n",
       "    </tr>\n",
       "    <tr>\n",
       "      <th>United States</th>\n",
       "      <td>318.523</td>\n",
       "      <td>17348075</td>\n",
       "      <td>9525067</td>\n",
       "      <td>0.915</td>\n",
       "      <td>America</td>\n",
       "    </tr>\n",
       "  </tbody>\n",
       "</table>\n",
       "</div>"
      ],
      "text/plain": [
       "                Population       GDP  Surface Area    HDI Continent\n",
       "Canada              35.467   1785387       9984670  0.913   America\n",
       "France              63.951   2833687        640679  0.888    Europe\n",
       "Germany             80.940   3874437        357114  0.916    Europe\n",
       "Italy               60.665   2167744        301336  0.873    Europe\n",
       "Japan              127.061   4602367        377930  0.891      Asia\n",
       "United Kingdom      64.511   2950039        242495  0.907    Europe\n",
       "United States      318.523  17348075       9525067  0.915   America"
      ]
     },
     "execution_count": 3,
     "metadata": {},
     "output_type": "execute_result"
    }
   ],
   "source": [
    "df.index = [\n",
    "    'Canada',\n",
    "    'France',\n",
    "    'Germany',\n",
    "    'Italy',\n",
    "    'Japan',\n",
    "    'United Kingdom',\n",
    "    'United States',\n",
    "]\n",
    "df"
   ]
  },
  {
   "cell_type": "code",
   "execution_count": 4,
   "id": "23416e87",
   "metadata": {},
   "outputs": [],
   "source": [
    "#dataframe is a combination of multiple series"
   ]
  },
  {
   "cell_type": "code",
   "execution_count": 5,
   "id": "f321ed7a",
   "metadata": {},
   "outputs": [
    {
     "data": {
      "text/plain": [
       "35"
      ]
     },
     "execution_count": 5,
     "metadata": {},
     "output_type": "execute_result"
    }
   ],
   "source": [
    "df.size"
   ]
  },
  {
   "cell_type": "code",
   "execution_count": 6,
   "id": "389e8856",
   "metadata": {},
   "outputs": [
    {
     "name": "stdout",
     "output_type": "stream",
     "text": [
      "<class 'pandas.core.frame.DataFrame'>\n",
      "Index: 7 entries, Canada to United States\n",
      "Data columns (total 5 columns):\n",
      " #   Column        Non-Null Count  Dtype  \n",
      "---  ------        --------------  -----  \n",
      " 0   Population    7 non-null      float64\n",
      " 1   GDP           7 non-null      int64  \n",
      " 2   Surface Area  7 non-null      int64  \n",
      " 3   HDI           7 non-null      float64\n",
      " 4   Continent     7 non-null      object \n",
      "dtypes: float64(2), int64(2), object(1)\n",
      "memory usage: 336.0+ bytes\n"
     ]
    }
   ],
   "source": [
    "df.info()"
   ]
  },
  {
   "cell_type": "code",
   "execution_count": 7,
   "id": "be15d564",
   "metadata": {},
   "outputs": [
    {
     "data": {
      "text/plain": [
       "Index(['Population', 'GDP', 'Surface Area', 'HDI', 'Continent'], dtype='object')"
      ]
     },
     "execution_count": 7,
     "metadata": {},
     "output_type": "execute_result"
    }
   ],
   "source": [
    "df.columns"
   ]
  },
  {
   "cell_type": "code",
   "execution_count": 8,
   "id": "65402808",
   "metadata": {},
   "outputs": [
    {
     "data": {
      "text/plain": [
       "Index(['Canada', 'France', 'Germany', 'Italy', 'Japan', 'United Kingdom',\n",
       "       'United States'],\n",
       "      dtype='object')"
      ]
     },
     "execution_count": 8,
     "metadata": {},
     "output_type": "execute_result"
    }
   ],
   "source": [
    "df.index"
   ]
  },
  {
   "cell_type": "code",
   "execution_count": 9,
   "id": "fbdc808e",
   "metadata": {},
   "outputs": [
    {
     "data": {
      "text/plain": [
       "Population      float64\n",
       "GDP               int64\n",
       "Surface Area      int64\n",
       "HDI             float64\n",
       "Continent        object\n",
       "dtype: object"
      ]
     },
     "execution_count": 9,
     "metadata": {},
     "output_type": "execute_result"
    }
   ],
   "source": [
    "df.dtypes"
   ]
  },
  {
   "cell_type": "code",
   "execution_count": 10,
   "id": "15010760",
   "metadata": {},
   "outputs": [
    {
     "data": {
      "text/html": [
       "<div>\n",
       "<style scoped>\n",
       "    .dataframe tbody tr th:only-of-type {\n",
       "        vertical-align: middle;\n",
       "    }\n",
       "\n",
       "    .dataframe tbody tr th {\n",
       "        vertical-align: top;\n",
       "    }\n",
       "\n",
       "    .dataframe thead th {\n",
       "        text-align: right;\n",
       "    }\n",
       "</style>\n",
       "<table border=\"1\" class=\"dataframe\">\n",
       "  <thead>\n",
       "    <tr style=\"text-align: right;\">\n",
       "      <th></th>\n",
       "      <th>Population</th>\n",
       "      <th>GDP</th>\n",
       "      <th>Surface Area</th>\n",
       "      <th>HDI</th>\n",
       "    </tr>\n",
       "  </thead>\n",
       "  <tbody>\n",
       "    <tr>\n",
       "      <th>count</th>\n",
       "      <td>7.000000</td>\n",
       "      <td>7.000000e+00</td>\n",
       "      <td>7.000000e+00</td>\n",
       "      <td>7.000000</td>\n",
       "    </tr>\n",
       "    <tr>\n",
       "      <th>mean</th>\n",
       "      <td>107.302571</td>\n",
       "      <td>5.080248e+06</td>\n",
       "      <td>3.061327e+06</td>\n",
       "      <td>0.900429</td>\n",
       "    </tr>\n",
       "    <tr>\n",
       "      <th>std</th>\n",
       "      <td>97.249970</td>\n",
       "      <td>5.494020e+06</td>\n",
       "      <td>4.576187e+06</td>\n",
       "      <td>0.016592</td>\n",
       "    </tr>\n",
       "    <tr>\n",
       "      <th>min</th>\n",
       "      <td>35.467000</td>\n",
       "      <td>1.785387e+06</td>\n",
       "      <td>2.424950e+05</td>\n",
       "      <td>0.873000</td>\n",
       "    </tr>\n",
       "    <tr>\n",
       "      <th>25%</th>\n",
       "      <td>62.308000</td>\n",
       "      <td>2.500716e+06</td>\n",
       "      <td>3.292250e+05</td>\n",
       "      <td>0.889500</td>\n",
       "    </tr>\n",
       "    <tr>\n",
       "      <th>50%</th>\n",
       "      <td>64.511000</td>\n",
       "      <td>2.950039e+06</td>\n",
       "      <td>3.779300e+05</td>\n",
       "      <td>0.907000</td>\n",
       "    </tr>\n",
       "    <tr>\n",
       "      <th>75%</th>\n",
       "      <td>104.000500</td>\n",
       "      <td>4.238402e+06</td>\n",
       "      <td>5.082873e+06</td>\n",
       "      <td>0.914000</td>\n",
       "    </tr>\n",
       "    <tr>\n",
       "      <th>max</th>\n",
       "      <td>318.523000</td>\n",
       "      <td>1.734808e+07</td>\n",
       "      <td>9.984670e+06</td>\n",
       "      <td>0.916000</td>\n",
       "    </tr>\n",
       "  </tbody>\n",
       "</table>\n",
       "</div>"
      ],
      "text/plain": [
       "       Population           GDP  Surface Area       HDI\n",
       "count    7.000000  7.000000e+00  7.000000e+00  7.000000\n",
       "mean   107.302571  5.080248e+06  3.061327e+06  0.900429\n",
       "std     97.249970  5.494020e+06  4.576187e+06  0.016592\n",
       "min     35.467000  1.785387e+06  2.424950e+05  0.873000\n",
       "25%     62.308000  2.500716e+06  3.292250e+05  0.889500\n",
       "50%     64.511000  2.950039e+06  3.779300e+05  0.907000\n",
       "75%    104.000500  4.238402e+06  5.082873e+06  0.914000\n",
       "max    318.523000  1.734808e+07  9.984670e+06  0.916000"
      ]
     },
     "execution_count": 10,
     "metadata": {},
     "output_type": "execute_result"
    }
   ],
   "source": [
    "df.describe()"
   ]
  },
  {
   "cell_type": "code",
   "execution_count": 11,
   "id": "45ba2a27",
   "metadata": {},
   "outputs": [
    {
     "data": {
      "text/plain": [
       "(7, 5)"
      ]
     },
     "execution_count": 11,
     "metadata": {},
     "output_type": "execute_result"
    }
   ],
   "source": [
    "df.shape"
   ]
  },
  {
   "cell_type": "code",
   "execution_count": 12,
   "id": "33ca1867",
   "metadata": {},
   "outputs": [
    {
     "data": {
      "text/plain": [
       "float64    2\n",
       "int64      2\n",
       "object     1\n",
       "dtype: int64"
      ]
     },
     "execution_count": 12,
     "metadata": {},
     "output_type": "execute_result"
    }
   ],
   "source": [
    "df.dtypes.value_counts()"
   ]
  },
  {
   "cell_type": "markdown",
   "id": "a4fdebed",
   "metadata": {},
   "source": [
    "### INDEXING SLICING AND SELECTION"
   ]
  },
  {
   "cell_type": "code",
   "execution_count": 13,
   "id": "3dcb9ded",
   "metadata": {},
   "outputs": [],
   "source": [
    "#individual columns in the dataframes can be seleted with regular indexing; each represents a series"
   ]
  },
  {
   "cell_type": "code",
   "execution_count": 14,
   "id": "3e57c55f",
   "metadata": {},
   "outputs": [
    {
     "data": {
      "text/plain": [
       "Population       35.467\n",
       "GDP             1785387\n",
       "Surface Area    9984670\n",
       "HDI               0.913\n",
       "Continent       America\n",
       "Name: Canada, dtype: object"
      ]
     },
     "execution_count": 14,
     "metadata": {},
     "output_type": "execute_result"
    }
   ],
   "source": [
    "#loc gives us a row by index\n",
    "df.loc['Canada']"
   ]
  },
  {
   "cell_type": "code",
   "execution_count": 15,
   "id": "ef340eea",
   "metadata": {},
   "outputs": [
    {
     "data": {
      "text/plain": [
       "Population       318.523\n",
       "GDP             17348075\n",
       "Surface Area     9525067\n",
       "HDI                0.915\n",
       "Continent        America\n",
       "Name: United States, dtype: object"
      ]
     },
     "execution_count": 15,
     "metadata": {},
     "output_type": "execute_result"
    }
   ],
   "source": [
    "#iloc gives us a row by position\n",
    "df.iloc[-1]"
   ]
  },
  {
   "cell_type": "code",
   "execution_count": 16,
   "id": "d820dd7b",
   "metadata": {},
   "outputs": [
    {
     "data": {
      "text/plain": [
       "Canada             35.467\n",
       "France             63.951\n",
       "Germany            80.940\n",
       "Italy              60.665\n",
       "Japan             127.061\n",
       "United Kingdom     64.511\n",
       "United States     318.523\n",
       "Name: Population, dtype: float64"
      ]
     },
     "execution_count": 16,
     "metadata": {},
     "output_type": "execute_result"
    }
   ],
   "source": [
    "df['Population']"
   ]
  },
  {
   "cell_type": "code",
   "execution_count": 17,
   "id": "6eb0b67b",
   "metadata": {},
   "outputs": [
    {
     "data": {
      "text/plain": [
       "France     0.888\n",
       "Germany    0.916\n",
       "Italy      0.873\n",
       "Japan      0.891\n",
       "Name: HDI, dtype: float64"
      ]
     },
     "execution_count": 17,
     "metadata": {},
     "output_type": "execute_result"
    }
   ],
   "source": [
    "df.loc['France':'Japan','HDI']"
   ]
  },
  {
   "cell_type": "code",
   "execution_count": 18,
   "id": "093b30c6",
   "metadata": {},
   "outputs": [
    {
     "data": {
      "text/html": [
       "<div>\n",
       "<style scoped>\n",
       "    .dataframe tbody tr th:only-of-type {\n",
       "        vertical-align: middle;\n",
       "    }\n",
       "\n",
       "    .dataframe tbody tr th {\n",
       "        vertical-align: top;\n",
       "    }\n",
       "\n",
       "    .dataframe thead th {\n",
       "        text-align: right;\n",
       "    }\n",
       "</style>\n",
       "<table border=\"1\" class=\"dataframe\">\n",
       "  <thead>\n",
       "    <tr style=\"text-align: right;\">\n",
       "      <th></th>\n",
       "      <th>Population</th>\n",
       "      <th>HDI</th>\n",
       "    </tr>\n",
       "  </thead>\n",
       "  <tbody>\n",
       "    <tr>\n",
       "      <th>France</th>\n",
       "      <td>63.951</td>\n",
       "      <td>0.888</td>\n",
       "    </tr>\n",
       "    <tr>\n",
       "      <th>Germany</th>\n",
       "      <td>80.940</td>\n",
       "      <td>0.916</td>\n",
       "    </tr>\n",
       "    <tr>\n",
       "      <th>Italy</th>\n",
       "      <td>60.665</td>\n",
       "      <td>0.873</td>\n",
       "    </tr>\n",
       "    <tr>\n",
       "      <th>Japan</th>\n",
       "      <td>127.061</td>\n",
       "      <td>0.891</td>\n",
       "    </tr>\n",
       "  </tbody>\n",
       "</table>\n",
       "</div>"
      ],
      "text/plain": [
       "         Population    HDI\n",
       "France       63.951  0.888\n",
       "Germany      80.940  0.916\n",
       "Italy        60.665  0.873\n",
       "Japan       127.061  0.891"
      ]
     },
     "execution_count": 18,
     "metadata": {},
     "output_type": "execute_result"
    }
   ],
   "source": [
    "df.loc['France':'Japan',['Population','HDI']]"
   ]
  },
  {
   "cell_type": "code",
   "execution_count": 19,
   "id": "7cc2b538",
   "metadata": {},
   "outputs": [
    {
     "data": {
      "text/html": [
       "<div>\n",
       "<style scoped>\n",
       "    .dataframe tbody tr th:only-of-type {\n",
       "        vertical-align: middle;\n",
       "    }\n",
       "\n",
       "    .dataframe tbody tr th {\n",
       "        vertical-align: top;\n",
       "    }\n",
       "\n",
       "    .dataframe thead th {\n",
       "        text-align: right;\n",
       "    }\n",
       "</style>\n",
       "<table border=\"1\" class=\"dataframe\">\n",
       "  <thead>\n",
       "    <tr style=\"text-align: right;\">\n",
       "      <th></th>\n",
       "      <th>Population</th>\n",
       "      <th>HDI</th>\n",
       "    </tr>\n",
       "  </thead>\n",
       "  <tbody>\n",
       "    <tr>\n",
       "      <th>France</th>\n",
       "      <td>63.951</td>\n",
       "      <td>0.888</td>\n",
       "    </tr>\n",
       "    <tr>\n",
       "      <th>Germany</th>\n",
       "      <td>80.940</td>\n",
       "      <td>0.916</td>\n",
       "    </tr>\n",
       "    <tr>\n",
       "      <th>Italy</th>\n",
       "      <td>60.665</td>\n",
       "      <td>0.873</td>\n",
       "    </tr>\n",
       "  </tbody>\n",
       "</table>\n",
       "</div>"
      ],
      "text/plain": [
       "         Population    HDI\n",
       "France       63.951  0.888\n",
       "Germany      80.940  0.916\n",
       "Italy        60.665  0.873"
      ]
     },
     "execution_count": 19,
     "metadata": {},
     "output_type": "execute_result"
    }
   ],
   "source": [
    "df.iloc[1:4,[0,3]]"
   ]
  },
  {
   "cell_type": "markdown",
   "id": "c00334f1",
   "metadata": {},
   "source": [
    "### conditional selection"
   ]
  },
  {
   "cell_type": "code",
   "execution_count": 20,
   "id": "483249da",
   "metadata": {},
   "outputs": [
    {
     "data": {
      "text/plain": [
       "Canada            False\n",
       "France            False\n",
       "Germany            True\n",
       "Italy             False\n",
       "Japan              True\n",
       "United Kingdom    False\n",
       "United States      True\n",
       "Name: Population, dtype: bool"
      ]
     },
     "execution_count": 20,
     "metadata": {},
     "output_type": "execute_result"
    }
   ],
   "source": [
    "df['Population']>70"
   ]
  },
  {
   "cell_type": "code",
   "execution_count": 21,
   "id": "84ec5de7",
   "metadata": {},
   "outputs": [
    {
     "data": {
      "text/html": [
       "<div>\n",
       "<style scoped>\n",
       "    .dataframe tbody tr th:only-of-type {\n",
       "        vertical-align: middle;\n",
       "    }\n",
       "\n",
       "    .dataframe tbody tr th {\n",
       "        vertical-align: top;\n",
       "    }\n",
       "\n",
       "    .dataframe thead th {\n",
       "        text-align: right;\n",
       "    }\n",
       "</style>\n",
       "<table border=\"1\" class=\"dataframe\">\n",
       "  <thead>\n",
       "    <tr style=\"text-align: right;\">\n",
       "      <th></th>\n",
       "      <th>Population</th>\n",
       "      <th>GDP</th>\n",
       "      <th>Surface Area</th>\n",
       "      <th>HDI</th>\n",
       "      <th>Continent</th>\n",
       "    </tr>\n",
       "  </thead>\n",
       "  <tbody>\n",
       "    <tr>\n",
       "      <th>Germany</th>\n",
       "      <td>80.940</td>\n",
       "      <td>3874437</td>\n",
       "      <td>357114</td>\n",
       "      <td>0.916</td>\n",
       "      <td>Europe</td>\n",
       "    </tr>\n",
       "    <tr>\n",
       "      <th>Japan</th>\n",
       "      <td>127.061</td>\n",
       "      <td>4602367</td>\n",
       "      <td>377930</td>\n",
       "      <td>0.891</td>\n",
       "      <td>Asia</td>\n",
       "    </tr>\n",
       "    <tr>\n",
       "      <th>United States</th>\n",
       "      <td>318.523</td>\n",
       "      <td>17348075</td>\n",
       "      <td>9525067</td>\n",
       "      <td>0.915</td>\n",
       "      <td>America</td>\n",
       "    </tr>\n",
       "  </tbody>\n",
       "</table>\n",
       "</div>"
      ],
      "text/plain": [
       "               Population       GDP  Surface Area    HDI Continent\n",
       "Germany            80.940   3874437        357114  0.916    Europe\n",
       "Japan             127.061   4602367        377930  0.891      Asia\n",
       "United States     318.523  17348075       9525067  0.915   America"
      ]
     },
     "execution_count": 21,
     "metadata": {},
     "output_type": "execute_result"
    }
   ],
   "source": [
    "df.loc[df['Population']>70]"
   ]
  },
  {
   "cell_type": "code",
   "execution_count": 22,
   "id": "9476cb24",
   "metadata": {},
   "outputs": [
    {
     "data": {
      "text/html": [
       "<div>\n",
       "<style scoped>\n",
       "    .dataframe tbody tr th:only-of-type {\n",
       "        vertical-align: middle;\n",
       "    }\n",
       "\n",
       "    .dataframe tbody tr th {\n",
       "        vertical-align: top;\n",
       "    }\n",
       "\n",
       "    .dataframe thead th {\n",
       "        text-align: right;\n",
       "    }\n",
       "</style>\n",
       "<table border=\"1\" class=\"dataframe\">\n",
       "  <thead>\n",
       "    <tr style=\"text-align: right;\">\n",
       "      <th></th>\n",
       "      <th>Population</th>\n",
       "      <th>GDP</th>\n",
       "    </tr>\n",
       "  </thead>\n",
       "  <tbody>\n",
       "    <tr>\n",
       "      <th>Germany</th>\n",
       "      <td>80.940</td>\n",
       "      <td>3874437</td>\n",
       "    </tr>\n",
       "    <tr>\n",
       "      <th>Japan</th>\n",
       "      <td>127.061</td>\n",
       "      <td>4602367</td>\n",
       "    </tr>\n",
       "    <tr>\n",
       "      <th>United States</th>\n",
       "      <td>318.523</td>\n",
       "      <td>17348075</td>\n",
       "    </tr>\n",
       "  </tbody>\n",
       "</table>\n",
       "</div>"
      ],
      "text/plain": [
       "               Population       GDP\n",
       "Germany            80.940   3874437\n",
       "Japan             127.061   4602367\n",
       "United States     318.523  17348075"
      ]
     },
     "execution_count": 22,
     "metadata": {},
     "output_type": "execute_result"
    }
   ],
   "source": [
    "df.loc[df['Population']>70,['Population','GDP']]"
   ]
  },
  {
   "cell_type": "code",
   "execution_count": 23,
   "id": "c28da6f9",
   "metadata": {},
   "outputs": [
    {
     "data": {
      "text/html": [
       "<div>\n",
       "<style scoped>\n",
       "    .dataframe tbody tr th:only-of-type {\n",
       "        vertical-align: middle;\n",
       "    }\n",
       "\n",
       "    .dataframe tbody tr th {\n",
       "        vertical-align: top;\n",
       "    }\n",
       "\n",
       "    .dataframe thead th {\n",
       "        text-align: right;\n",
       "    }\n",
       "</style>\n",
       "<table border=\"1\" class=\"dataframe\">\n",
       "  <thead>\n",
       "    <tr style=\"text-align: right;\">\n",
       "      <th></th>\n",
       "      <th>Population</th>\n",
       "      <th>GDP</th>\n",
       "      <th>Surface Area</th>\n",
       "      <th>HDI</th>\n",
       "      <th>Continent</th>\n",
       "    </tr>\n",
       "  </thead>\n",
       "  <tbody>\n",
       "    <tr>\n",
       "      <th>France</th>\n",
       "      <td>63.951</td>\n",
       "      <td>2833687</td>\n",
       "      <td>640679</td>\n",
       "      <td>0.888</td>\n",
       "      <td>Europe</td>\n",
       "    </tr>\n",
       "    <tr>\n",
       "      <th>Germany</th>\n",
       "      <td>80.940</td>\n",
       "      <td>3874437</td>\n",
       "      <td>357114</td>\n",
       "      <td>0.916</td>\n",
       "      <td>Europe</td>\n",
       "    </tr>\n",
       "    <tr>\n",
       "      <th>Italy</th>\n",
       "      <td>60.665</td>\n",
       "      <td>2167744</td>\n",
       "      <td>301336</td>\n",
       "      <td>0.873</td>\n",
       "      <td>Europe</td>\n",
       "    </tr>\n",
       "    <tr>\n",
       "      <th>Japan</th>\n",
       "      <td>127.061</td>\n",
       "      <td>4602367</td>\n",
       "      <td>377930</td>\n",
       "      <td>0.891</td>\n",
       "      <td>Asia</td>\n",
       "    </tr>\n",
       "    <tr>\n",
       "      <th>United Kingdom</th>\n",
       "      <td>64.511</td>\n",
       "      <td>2950039</td>\n",
       "      <td>242495</td>\n",
       "      <td>0.907</td>\n",
       "      <td>Europe</td>\n",
       "    </tr>\n",
       "    <tr>\n",
       "      <th>United States</th>\n",
       "      <td>318.523</td>\n",
       "      <td>17348075</td>\n",
       "      <td>9525067</td>\n",
       "      <td>0.915</td>\n",
       "      <td>America</td>\n",
       "    </tr>\n",
       "  </tbody>\n",
       "</table>\n",
       "</div>"
      ],
      "text/plain": [
       "                Population       GDP  Surface Area    HDI Continent\n",
       "France              63.951   2833687        640679  0.888    Europe\n",
       "Germany             80.940   3874437        357114  0.916    Europe\n",
       "Italy               60.665   2167744        301336  0.873    Europe\n",
       "Japan              127.061   4602367        377930  0.891      Asia\n",
       "United Kingdom      64.511   2950039        242495  0.907    Europe\n",
       "United States      318.523  17348075       9525067  0.915   America"
      ]
     },
     "execution_count": 23,
     "metadata": {},
     "output_type": "execute_result"
    }
   ],
   "source": [
    "#DROPING STUFF\n",
    "df.drop('Canada')"
   ]
  },
  {
   "cell_type": "code",
   "execution_count": 24,
   "id": "dee27d51",
   "metadata": {},
   "outputs": [
    {
     "data": {
      "text/html": [
       "<div>\n",
       "<style scoped>\n",
       "    .dataframe tbody tr th:only-of-type {\n",
       "        vertical-align: middle;\n",
       "    }\n",
       "\n",
       "    .dataframe tbody tr th {\n",
       "        vertical-align: top;\n",
       "    }\n",
       "\n",
       "    .dataframe thead th {\n",
       "        text-align: right;\n",
       "    }\n",
       "</style>\n",
       "<table border=\"1\" class=\"dataframe\">\n",
       "  <thead>\n",
       "    <tr style=\"text-align: right;\">\n",
       "      <th></th>\n",
       "      <th>Population</th>\n",
       "      <th>GDP</th>\n",
       "      <th>Surface Area</th>\n",
       "      <th>HDI</th>\n",
       "      <th>Continent</th>\n",
       "    </tr>\n",
       "  </thead>\n",
       "  <tbody>\n",
       "    <tr>\n",
       "      <th>France</th>\n",
       "      <td>63.951</td>\n",
       "      <td>2833687</td>\n",
       "      <td>640679</td>\n",
       "      <td>0.888</td>\n",
       "      <td>Europe</td>\n",
       "    </tr>\n",
       "    <tr>\n",
       "      <th>Germany</th>\n",
       "      <td>80.940</td>\n",
       "      <td>3874437</td>\n",
       "      <td>357114</td>\n",
       "      <td>0.916</td>\n",
       "      <td>Europe</td>\n",
       "    </tr>\n",
       "    <tr>\n",
       "      <th>Japan</th>\n",
       "      <td>127.061</td>\n",
       "      <td>4602367</td>\n",
       "      <td>377930</td>\n",
       "      <td>0.891</td>\n",
       "      <td>Asia</td>\n",
       "    </tr>\n",
       "    <tr>\n",
       "      <th>United Kingdom</th>\n",
       "      <td>64.511</td>\n",
       "      <td>2950039</td>\n",
       "      <td>242495</td>\n",
       "      <td>0.907</td>\n",
       "      <td>Europe</td>\n",
       "    </tr>\n",
       "    <tr>\n",
       "      <th>United States</th>\n",
       "      <td>318.523</td>\n",
       "      <td>17348075</td>\n",
       "      <td>9525067</td>\n",
       "      <td>0.915</td>\n",
       "      <td>America</td>\n",
       "    </tr>\n",
       "  </tbody>\n",
       "</table>\n",
       "</div>"
      ],
      "text/plain": [
       "                Population       GDP  Surface Area    HDI Continent\n",
       "France              63.951   2833687        640679  0.888    Europe\n",
       "Germany             80.940   3874437        357114  0.916    Europe\n",
       "Japan              127.061   4602367        377930  0.891      Asia\n",
       "United Kingdom      64.511   2950039        242495  0.907    Europe\n",
       "United States      318.523  17348075       9525067  0.915   America"
      ]
     },
     "execution_count": 24,
     "metadata": {},
     "output_type": "execute_result"
    }
   ],
   "source": [
    "df.drop(['Italy', 'Canada'], axis=0)"
   ]
  },
  {
   "cell_type": "code",
   "execution_count": 25,
   "id": "dc8cf7b5",
   "metadata": {},
   "outputs": [
    {
     "data": {
      "text/html": [
       "<div>\n",
       "<style scoped>\n",
       "    .dataframe tbody tr th:only-of-type {\n",
       "        vertical-align: middle;\n",
       "    }\n",
       "\n",
       "    .dataframe tbody tr th {\n",
       "        vertical-align: top;\n",
       "    }\n",
       "\n",
       "    .dataframe thead th {\n",
       "        text-align: right;\n",
       "    }\n",
       "</style>\n",
       "<table border=\"1\" class=\"dataframe\">\n",
       "  <thead>\n",
       "    <tr style=\"text-align: right;\">\n",
       "      <th></th>\n",
       "      <th>GDP</th>\n",
       "      <th>Surface Area</th>\n",
       "      <th>Continent</th>\n",
       "    </tr>\n",
       "  </thead>\n",
       "  <tbody>\n",
       "    <tr>\n",
       "      <th>Canada</th>\n",
       "      <td>1785387</td>\n",
       "      <td>9984670</td>\n",
       "      <td>America</td>\n",
       "    </tr>\n",
       "    <tr>\n",
       "      <th>France</th>\n",
       "      <td>2833687</td>\n",
       "      <td>640679</td>\n",
       "      <td>Europe</td>\n",
       "    </tr>\n",
       "    <tr>\n",
       "      <th>Germany</th>\n",
       "      <td>3874437</td>\n",
       "      <td>357114</td>\n",
       "      <td>Europe</td>\n",
       "    </tr>\n",
       "    <tr>\n",
       "      <th>Italy</th>\n",
       "      <td>2167744</td>\n",
       "      <td>301336</td>\n",
       "      <td>Europe</td>\n",
       "    </tr>\n",
       "    <tr>\n",
       "      <th>Japan</th>\n",
       "      <td>4602367</td>\n",
       "      <td>377930</td>\n",
       "      <td>Asia</td>\n",
       "    </tr>\n",
       "    <tr>\n",
       "      <th>United Kingdom</th>\n",
       "      <td>2950039</td>\n",
       "      <td>242495</td>\n",
       "      <td>Europe</td>\n",
       "    </tr>\n",
       "    <tr>\n",
       "      <th>United States</th>\n",
       "      <td>17348075</td>\n",
       "      <td>9525067</td>\n",
       "      <td>America</td>\n",
       "    </tr>\n",
       "  </tbody>\n",
       "</table>\n",
       "</div>"
      ],
      "text/plain": [
       "                     GDP  Surface Area Continent\n",
       "Canada           1785387       9984670   America\n",
       "France           2833687        640679    Europe\n",
       "Germany          3874437        357114    Europe\n",
       "Italy            2167744        301336    Europe\n",
       "Japan            4602367        377930      Asia\n",
       "United Kingdom   2950039        242495    Europe\n",
       "United States   17348075       9525067   America"
      ]
     },
     "execution_count": 25,
     "metadata": {},
     "output_type": "execute_result"
    }
   ],
   "source": [
    "df.drop(['Population', 'HDI'], axis='columns')"
   ]
  },
  {
   "cell_type": "code",
   "execution_count": 26,
   "id": "6fdef76c",
   "metadata": {},
   "outputs": [
    {
     "data": {
      "text/html": [
       "<div>\n",
       "<style scoped>\n",
       "    .dataframe tbody tr th:only-of-type {\n",
       "        vertical-align: middle;\n",
       "    }\n",
       "\n",
       "    .dataframe tbody tr th {\n",
       "        vertical-align: top;\n",
       "    }\n",
       "\n",
       "    .dataframe thead th {\n",
       "        text-align: right;\n",
       "    }\n",
       "</style>\n",
       "<table border=\"1\" class=\"dataframe\">\n",
       "  <thead>\n",
       "    <tr style=\"text-align: right;\">\n",
       "      <th></th>\n",
       "      <th>Population</th>\n",
       "      <th>GDP</th>\n",
       "      <th>Surface Area</th>\n",
       "      <th>HDI</th>\n",
       "      <th>Continent</th>\n",
       "    </tr>\n",
       "  </thead>\n",
       "  <tbody>\n",
       "    <tr>\n",
       "      <th>France</th>\n",
       "      <td>63.951</td>\n",
       "      <td>2833687</td>\n",
       "      <td>640679</td>\n",
       "      <td>0.888</td>\n",
       "      <td>Europe</td>\n",
       "    </tr>\n",
       "    <tr>\n",
       "      <th>Italy</th>\n",
       "      <td>60.665</td>\n",
       "      <td>2167744</td>\n",
       "      <td>301336</td>\n",
       "      <td>0.873</td>\n",
       "      <td>Europe</td>\n",
       "    </tr>\n",
       "    <tr>\n",
       "      <th>Japan</th>\n",
       "      <td>127.061</td>\n",
       "      <td>4602367</td>\n",
       "      <td>377930</td>\n",
       "      <td>0.891</td>\n",
       "      <td>Asia</td>\n",
       "    </tr>\n",
       "    <tr>\n",
       "      <th>United Kingdom</th>\n",
       "      <td>64.511</td>\n",
       "      <td>2950039</td>\n",
       "      <td>242495</td>\n",
       "      <td>0.907</td>\n",
       "      <td>Europe</td>\n",
       "    </tr>\n",
       "    <tr>\n",
       "      <th>United States</th>\n",
       "      <td>318.523</td>\n",
       "      <td>17348075</td>\n",
       "      <td>9525067</td>\n",
       "      <td>0.915</td>\n",
       "      <td>America</td>\n",
       "    </tr>\n",
       "  </tbody>\n",
       "</table>\n",
       "</div>"
      ],
      "text/plain": [
       "                Population       GDP  Surface Area    HDI Continent\n",
       "France              63.951   2833687        640679  0.888    Europe\n",
       "Italy               60.665   2167744        301336  0.873    Europe\n",
       "Japan              127.061   4602367        377930  0.891      Asia\n",
       "United Kingdom      64.511   2950039        242495  0.907    Europe\n",
       "United States      318.523  17348075       9525067  0.915   America"
      ]
     },
     "execution_count": 26,
     "metadata": {},
     "output_type": "execute_result"
    }
   ],
   "source": [
    "df.drop(['Canada', 'Germany'], axis='rows')"
   ]
  },
  {
   "cell_type": "markdown",
   "id": "9e45237e",
   "metadata": {},
   "source": [
    "#### OPERATION WITH SERIES "
   ]
  },
  {
   "cell_type": "code",
   "execution_count": 27,
   "id": "7976463a",
   "metadata": {},
   "outputs": [
    {
     "data": {
      "text/plain": [
       "GDP   -1000000.0\n",
       "HDI         -0.3\n",
       "dtype: float64"
      ]
     },
     "execution_count": 27,
     "metadata": {},
     "output_type": "execute_result"
    }
   ],
   "source": [
    "crisis = pd.Series([-1_000_000, -0.3], index=['GDP', 'HDI'])\n",
    "crisis"
   ]
  },
  {
   "cell_type": "code",
   "execution_count": 28,
   "id": "6b80a739",
   "metadata": {},
   "outputs": [
    {
     "data": {
      "text/html": [
       "<div>\n",
       "<style scoped>\n",
       "    .dataframe tbody tr th:only-of-type {\n",
       "        vertical-align: middle;\n",
       "    }\n",
       "\n",
       "    .dataframe tbody tr th {\n",
       "        vertical-align: top;\n",
       "    }\n",
       "\n",
       "    .dataframe thead th {\n",
       "        text-align: right;\n",
       "    }\n",
       "</style>\n",
       "<table border=\"1\" class=\"dataframe\">\n",
       "  <thead>\n",
       "    <tr style=\"text-align: right;\">\n",
       "      <th></th>\n",
       "      <th>GDP</th>\n",
       "      <th>HDI</th>\n",
       "    </tr>\n",
       "  </thead>\n",
       "  <tbody>\n",
       "    <tr>\n",
       "      <th>Canada</th>\n",
       "      <td>1785387</td>\n",
       "      <td>0.913</td>\n",
       "    </tr>\n",
       "    <tr>\n",
       "      <th>France</th>\n",
       "      <td>2833687</td>\n",
       "      <td>0.888</td>\n",
       "    </tr>\n",
       "    <tr>\n",
       "      <th>Germany</th>\n",
       "      <td>3874437</td>\n",
       "      <td>0.916</td>\n",
       "    </tr>\n",
       "    <tr>\n",
       "      <th>Italy</th>\n",
       "      <td>2167744</td>\n",
       "      <td>0.873</td>\n",
       "    </tr>\n",
       "    <tr>\n",
       "      <th>Japan</th>\n",
       "      <td>4602367</td>\n",
       "      <td>0.891</td>\n",
       "    </tr>\n",
       "    <tr>\n",
       "      <th>United Kingdom</th>\n",
       "      <td>2950039</td>\n",
       "      <td>0.907</td>\n",
       "    </tr>\n",
       "    <tr>\n",
       "      <th>United States</th>\n",
       "      <td>17348075</td>\n",
       "      <td>0.915</td>\n",
       "    </tr>\n",
       "  </tbody>\n",
       "</table>\n",
       "</div>"
      ],
      "text/plain": [
       "                     GDP    HDI\n",
       "Canada           1785387  0.913\n",
       "France           2833687  0.888\n",
       "Germany          3874437  0.916\n",
       "Italy            2167744  0.873\n",
       "Japan            4602367  0.891\n",
       "United Kingdom   2950039  0.907\n",
       "United States   17348075  0.915"
      ]
     },
     "execution_count": 28,
     "metadata": {},
     "output_type": "execute_result"
    }
   ],
   "source": [
    "df[['GDP', 'HDI']]"
   ]
  },
  {
   "cell_type": "code",
   "execution_count": 29,
   "id": "47b07887",
   "metadata": {},
   "outputs": [
    {
     "data": {
      "text/html": [
       "<div>\n",
       "<style scoped>\n",
       "    .dataframe tbody tr th:only-of-type {\n",
       "        vertical-align: middle;\n",
       "    }\n",
       "\n",
       "    .dataframe tbody tr th {\n",
       "        vertical-align: top;\n",
       "    }\n",
       "\n",
       "    .dataframe thead th {\n",
       "        text-align: right;\n",
       "    }\n",
       "</style>\n",
       "<table border=\"1\" class=\"dataframe\">\n",
       "  <thead>\n",
       "    <tr style=\"text-align: right;\">\n",
       "      <th></th>\n",
       "      <th>GDP</th>\n",
       "      <th>HDI</th>\n",
       "    </tr>\n",
       "  </thead>\n",
       "  <tbody>\n",
       "    <tr>\n",
       "      <th>Canada</th>\n",
       "      <td>785387.0</td>\n",
       "      <td>0.613</td>\n",
       "    </tr>\n",
       "    <tr>\n",
       "      <th>France</th>\n",
       "      <td>1833687.0</td>\n",
       "      <td>0.588</td>\n",
       "    </tr>\n",
       "    <tr>\n",
       "      <th>Germany</th>\n",
       "      <td>2874437.0</td>\n",
       "      <td>0.616</td>\n",
       "    </tr>\n",
       "    <tr>\n",
       "      <th>Italy</th>\n",
       "      <td>1167744.0</td>\n",
       "      <td>0.573</td>\n",
       "    </tr>\n",
       "    <tr>\n",
       "      <th>Japan</th>\n",
       "      <td>3602367.0</td>\n",
       "      <td>0.591</td>\n",
       "    </tr>\n",
       "    <tr>\n",
       "      <th>United Kingdom</th>\n",
       "      <td>1950039.0</td>\n",
       "      <td>0.607</td>\n",
       "    </tr>\n",
       "    <tr>\n",
       "      <th>United States</th>\n",
       "      <td>16348075.0</td>\n",
       "      <td>0.615</td>\n",
       "    </tr>\n",
       "  </tbody>\n",
       "</table>\n",
       "</div>"
      ],
      "text/plain": [
       "                       GDP    HDI\n",
       "Canada            785387.0  0.613\n",
       "France           1833687.0  0.588\n",
       "Germany          2874437.0  0.616\n",
       "Italy            1167744.0  0.573\n",
       "Japan            3602367.0  0.591\n",
       "United Kingdom   1950039.0  0.607\n",
       "United States   16348075.0  0.615"
      ]
     },
     "execution_count": 29,
     "metadata": {},
     "output_type": "execute_result"
    }
   ],
   "source": [
    "df[['GDP', 'HDI']] + crisis"
   ]
  },
  {
   "cell_type": "markdown",
   "id": "bfed2672",
   "metadata": {},
   "source": [
    "### MODIFYING DATAFRAMES"
   ]
  },
  {
   "cell_type": "code",
   "execution_count": 30,
   "id": "9d5ce2ab",
   "metadata": {},
   "outputs": [
    {
     "data": {
      "text/plain": [
       "France      French\n",
       "Germany     German\n",
       "Italy      Italian\n",
       "Name: Language, dtype: object"
      ]
     },
     "execution_count": 30,
     "metadata": {},
     "output_type": "execute_result"
    }
   ],
   "source": [
    "langs = pd.Series(\n",
    "    ['French', 'German', 'Italian'],\n",
    "    index=['France', 'Germany', 'Italy'],\n",
    "    name='Language'\n",
    ")\n",
    "langs"
   ]
  },
  {
   "cell_type": "code",
   "execution_count": 31,
   "id": "361a014d",
   "metadata": {},
   "outputs": [
    {
     "data": {
      "text/html": [
       "<div>\n",
       "<style scoped>\n",
       "    .dataframe tbody tr th:only-of-type {\n",
       "        vertical-align: middle;\n",
       "    }\n",
       "\n",
       "    .dataframe tbody tr th {\n",
       "        vertical-align: top;\n",
       "    }\n",
       "\n",
       "    .dataframe thead th {\n",
       "        text-align: right;\n",
       "    }\n",
       "</style>\n",
       "<table border=\"1\" class=\"dataframe\">\n",
       "  <thead>\n",
       "    <tr style=\"text-align: right;\">\n",
       "      <th></th>\n",
       "      <th>Population</th>\n",
       "      <th>GDP</th>\n",
       "      <th>Surface Area</th>\n",
       "      <th>HDI</th>\n",
       "      <th>Continent</th>\n",
       "      <th>Language</th>\n",
       "    </tr>\n",
       "  </thead>\n",
       "  <tbody>\n",
       "    <tr>\n",
       "      <th>Canada</th>\n",
       "      <td>35.467</td>\n",
       "      <td>1785387</td>\n",
       "      <td>9984670</td>\n",
       "      <td>0.913</td>\n",
       "      <td>America</td>\n",
       "      <td>NaN</td>\n",
       "    </tr>\n",
       "    <tr>\n",
       "      <th>France</th>\n",
       "      <td>63.951</td>\n",
       "      <td>2833687</td>\n",
       "      <td>640679</td>\n",
       "      <td>0.888</td>\n",
       "      <td>Europe</td>\n",
       "      <td>French</td>\n",
       "    </tr>\n",
       "    <tr>\n",
       "      <th>Germany</th>\n",
       "      <td>80.940</td>\n",
       "      <td>3874437</td>\n",
       "      <td>357114</td>\n",
       "      <td>0.916</td>\n",
       "      <td>Europe</td>\n",
       "      <td>German</td>\n",
       "    </tr>\n",
       "    <tr>\n",
       "      <th>Italy</th>\n",
       "      <td>60.665</td>\n",
       "      <td>2167744</td>\n",
       "      <td>301336</td>\n",
       "      <td>0.873</td>\n",
       "      <td>Europe</td>\n",
       "      <td>Italian</td>\n",
       "    </tr>\n",
       "    <tr>\n",
       "      <th>Japan</th>\n",
       "      <td>127.061</td>\n",
       "      <td>4602367</td>\n",
       "      <td>377930</td>\n",
       "      <td>0.891</td>\n",
       "      <td>Asia</td>\n",
       "      <td>NaN</td>\n",
       "    </tr>\n",
       "    <tr>\n",
       "      <th>United Kingdom</th>\n",
       "      <td>64.511</td>\n",
       "      <td>2950039</td>\n",
       "      <td>242495</td>\n",
       "      <td>0.907</td>\n",
       "      <td>Europe</td>\n",
       "      <td>NaN</td>\n",
       "    </tr>\n",
       "    <tr>\n",
       "      <th>United States</th>\n",
       "      <td>318.523</td>\n",
       "      <td>17348075</td>\n",
       "      <td>9525067</td>\n",
       "      <td>0.915</td>\n",
       "      <td>America</td>\n",
       "      <td>NaN</td>\n",
       "    </tr>\n",
       "  </tbody>\n",
       "</table>\n",
       "</div>"
      ],
      "text/plain": [
       "                Population       GDP  Surface Area    HDI Continent Language\n",
       "Canada              35.467   1785387       9984670  0.913   America      NaN\n",
       "France              63.951   2833687        640679  0.888    Europe   French\n",
       "Germany             80.940   3874437        357114  0.916    Europe   German\n",
       "Italy               60.665   2167744        301336  0.873    Europe  Italian\n",
       "Japan              127.061   4602367        377930  0.891      Asia      NaN\n",
       "United Kingdom      64.511   2950039        242495  0.907    Europe      NaN\n",
       "United States      318.523  17348075       9525067  0.915   America      NaN"
      ]
     },
     "execution_count": 31,
     "metadata": {},
     "output_type": "execute_result"
    }
   ],
   "source": [
    "df['Language']=langs\n",
    "df"
   ]
  },
  {
   "cell_type": "code",
   "execution_count": 32,
   "id": "b7ace60a",
   "metadata": {},
   "outputs": [
    {
     "data": {
      "text/html": [
       "<div>\n",
       "<style scoped>\n",
       "    .dataframe tbody tr th:only-of-type {\n",
       "        vertical-align: middle;\n",
       "    }\n",
       "\n",
       "    .dataframe tbody tr th {\n",
       "        vertical-align: top;\n",
       "    }\n",
       "\n",
       "    .dataframe thead th {\n",
       "        text-align: right;\n",
       "    }\n",
       "</style>\n",
       "<table border=\"1\" class=\"dataframe\">\n",
       "  <thead>\n",
       "    <tr style=\"text-align: right;\">\n",
       "      <th></th>\n",
       "      <th>Population</th>\n",
       "      <th>GDP</th>\n",
       "      <th>Surface Area</th>\n",
       "      <th>HDI</th>\n",
       "      <th>Continent</th>\n",
       "      <th>Language</th>\n",
       "    </tr>\n",
       "  </thead>\n",
       "  <tbody>\n",
       "    <tr>\n",
       "      <th>Canada</th>\n",
       "      <td>35.467</td>\n",
       "      <td>1785387</td>\n",
       "      <td>9984670</td>\n",
       "      <td>0.913</td>\n",
       "      <td>America</td>\n",
       "      <td>English</td>\n",
       "    </tr>\n",
       "    <tr>\n",
       "      <th>France</th>\n",
       "      <td>63.951</td>\n",
       "      <td>2833687</td>\n",
       "      <td>640679</td>\n",
       "      <td>0.888</td>\n",
       "      <td>Europe</td>\n",
       "      <td>English</td>\n",
       "    </tr>\n",
       "    <tr>\n",
       "      <th>Germany</th>\n",
       "      <td>80.940</td>\n",
       "      <td>3874437</td>\n",
       "      <td>357114</td>\n",
       "      <td>0.916</td>\n",
       "      <td>Europe</td>\n",
       "      <td>English</td>\n",
       "    </tr>\n",
       "    <tr>\n",
       "      <th>Italy</th>\n",
       "      <td>60.665</td>\n",
       "      <td>2167744</td>\n",
       "      <td>301336</td>\n",
       "      <td>0.873</td>\n",
       "      <td>Europe</td>\n",
       "      <td>English</td>\n",
       "    </tr>\n",
       "    <tr>\n",
       "      <th>Japan</th>\n",
       "      <td>127.061</td>\n",
       "      <td>4602367</td>\n",
       "      <td>377930</td>\n",
       "      <td>0.891</td>\n",
       "      <td>Asia</td>\n",
       "      <td>English</td>\n",
       "    </tr>\n",
       "    <tr>\n",
       "      <th>United Kingdom</th>\n",
       "      <td>64.511</td>\n",
       "      <td>2950039</td>\n",
       "      <td>242495</td>\n",
       "      <td>0.907</td>\n",
       "      <td>Europe</td>\n",
       "      <td>English</td>\n",
       "    </tr>\n",
       "    <tr>\n",
       "      <th>United States</th>\n",
       "      <td>318.523</td>\n",
       "      <td>17348075</td>\n",
       "      <td>9525067</td>\n",
       "      <td>0.915</td>\n",
       "      <td>America</td>\n",
       "      <td>English</td>\n",
       "    </tr>\n",
       "  </tbody>\n",
       "</table>\n",
       "</div>"
      ],
      "text/plain": [
       "                Population       GDP  Surface Area    HDI Continent Language\n",
       "Canada              35.467   1785387       9984670  0.913   America  English\n",
       "France              63.951   2833687        640679  0.888    Europe  English\n",
       "Germany             80.940   3874437        357114  0.916    Europe  English\n",
       "Italy               60.665   2167744        301336  0.873    Europe  English\n",
       "Japan              127.061   4602367        377930  0.891      Asia  English\n",
       "United Kingdom      64.511   2950039        242495  0.907    Europe  English\n",
       "United States      318.523  17348075       9525067  0.915   America  English"
      ]
     },
     "execution_count": 32,
     "metadata": {},
     "output_type": "execute_result"
    }
   ],
   "source": [
    "df['Language']='English'          #replacing valies per col\n",
    "df"
   ]
  },
  {
   "cell_type": "code",
   "execution_count": 33,
   "id": "20beb2bd",
   "metadata": {},
   "outputs": [
    {
     "data": {
      "text/html": [
       "<div>\n",
       "<style scoped>\n",
       "    .dataframe tbody tr th:only-of-type {\n",
       "        vertical-align: middle;\n",
       "    }\n",
       "\n",
       "    .dataframe tbody tr th {\n",
       "        vertical-align: top;\n",
       "    }\n",
       "\n",
       "    .dataframe thead th {\n",
       "        text-align: right;\n",
       "    }\n",
       "</style>\n",
       "<table border=\"1\" class=\"dataframe\">\n",
       "  <thead>\n",
       "    <tr style=\"text-align: right;\">\n",
       "      <th></th>\n",
       "      <th>Population</th>\n",
       "      <th>GDP</th>\n",
       "      <th>Surface Area</th>\n",
       "      <th>Human Development Index</th>\n",
       "      <th>Continent</th>\n",
       "      <th>Language</th>\n",
       "    </tr>\n",
       "  </thead>\n",
       "  <tbody>\n",
       "    <tr>\n",
       "      <th>Canada</th>\n",
       "      <td>35.467</td>\n",
       "      <td>1785387</td>\n",
       "      <td>9984670</td>\n",
       "      <td>0.913</td>\n",
       "      <td>America</td>\n",
       "      <td>English</td>\n",
       "    </tr>\n",
       "    <tr>\n",
       "      <th>France</th>\n",
       "      <td>63.951</td>\n",
       "      <td>2833687</td>\n",
       "      <td>640679</td>\n",
       "      <td>0.888</td>\n",
       "      <td>Europe</td>\n",
       "      <td>English</td>\n",
       "    </tr>\n",
       "    <tr>\n",
       "      <th>Germany</th>\n",
       "      <td>80.940</td>\n",
       "      <td>3874437</td>\n",
       "      <td>357114</td>\n",
       "      <td>0.916</td>\n",
       "      <td>Europe</td>\n",
       "      <td>English</td>\n",
       "    </tr>\n",
       "    <tr>\n",
       "      <th>Italy</th>\n",
       "      <td>60.665</td>\n",
       "      <td>2167744</td>\n",
       "      <td>301336</td>\n",
       "      <td>0.873</td>\n",
       "      <td>Europe</td>\n",
       "      <td>English</td>\n",
       "    </tr>\n",
       "    <tr>\n",
       "      <th>Japan</th>\n",
       "      <td>127.061</td>\n",
       "      <td>4602367</td>\n",
       "      <td>377930</td>\n",
       "      <td>0.891</td>\n",
       "      <td>Asia</td>\n",
       "      <td>English</td>\n",
       "    </tr>\n",
       "    <tr>\n",
       "      <th>UK</th>\n",
       "      <td>64.511</td>\n",
       "      <td>2950039</td>\n",
       "      <td>242495</td>\n",
       "      <td>0.907</td>\n",
       "      <td>Europe</td>\n",
       "      <td>English</td>\n",
       "    </tr>\n",
       "    <tr>\n",
       "      <th>USA</th>\n",
       "      <td>318.523</td>\n",
       "      <td>17348075</td>\n",
       "      <td>9525067</td>\n",
       "      <td>0.915</td>\n",
       "      <td>America</td>\n",
       "      <td>English</td>\n",
       "    </tr>\n",
       "  </tbody>\n",
       "</table>\n",
       "</div>"
      ],
      "text/plain": [
       "         Population       GDP  Surface Area  Human Development Index  \\\n",
       "Canada       35.467   1785387       9984670                    0.913   \n",
       "France       63.951   2833687        640679                    0.888   \n",
       "Germany      80.940   3874437        357114                    0.916   \n",
       "Italy        60.665   2167744        301336                    0.873   \n",
       "Japan       127.061   4602367        377930                    0.891   \n",
       "UK           64.511   2950039        242495                    0.907   \n",
       "USA         318.523  17348075       9525067                    0.915   \n",
       "\n",
       "        Continent Language  \n",
       "Canada    America  English  \n",
       "France     Europe  English  \n",
       "Germany    Europe  English  \n",
       "Italy      Europe  English  \n",
       "Japan        Asia  English  \n",
       "UK         Europe  English  \n",
       "USA       America  English  "
      ]
     },
     "execution_count": 33,
     "metadata": {},
     "output_type": "execute_result"
    }
   ],
   "source": [
    "#renaming columns(IMP CHECK BRACKETS)\n",
    "df.rename(columns={'HDI':'Human Development Index'},\n",
    "          index={'United States':'USA','United Kingdom':'UK'})"
   ]
  },
  {
   "cell_type": "code",
   "execution_count": 36,
   "id": "5401a3cd",
   "metadata": {},
   "outputs": [
    {
     "data": {
      "text/html": [
       "<div>\n",
       "<style scoped>\n",
       "    .dataframe tbody tr th:only-of-type {\n",
       "        vertical-align: middle;\n",
       "    }\n",
       "\n",
       "    .dataframe tbody tr th {\n",
       "        vertical-align: top;\n",
       "    }\n",
       "\n",
       "    .dataframe thead th {\n",
       "        text-align: right;\n",
       "    }\n",
       "</style>\n",
       "<table border=\"1\" class=\"dataframe\">\n",
       "  <thead>\n",
       "    <tr style=\"text-align: right;\">\n",
       "      <th></th>\n",
       "      <th>Population</th>\n",
       "      <th>GDP</th>\n",
       "      <th>Surface Area</th>\n",
       "      <th>HDI</th>\n",
       "      <th>Continent</th>\n",
       "    </tr>\n",
       "  </thead>\n",
       "  <tbody>\n",
       "    <tr>\n",
       "      <th>Canada</th>\n",
       "      <td>35.467</td>\n",
       "      <td>1785387</td>\n",
       "      <td>9984670</td>\n",
       "      <td>0.913</td>\n",
       "      <td>America</td>\n",
       "    </tr>\n",
       "    <tr>\n",
       "      <th>France</th>\n",
       "      <td>63.951</td>\n",
       "      <td>2833687</td>\n",
       "      <td>640679</td>\n",
       "      <td>0.888</td>\n",
       "      <td>Europe</td>\n",
       "    </tr>\n",
       "    <tr>\n",
       "      <th>Germany</th>\n",
       "      <td>80.940</td>\n",
       "      <td>3874437</td>\n",
       "      <td>357114</td>\n",
       "      <td>0.916</td>\n",
       "      <td>Europe</td>\n",
       "    </tr>\n",
       "    <tr>\n",
       "      <th>Italy</th>\n",
       "      <td>60.665</td>\n",
       "      <td>2167744</td>\n",
       "      <td>301336</td>\n",
       "      <td>0.873</td>\n",
       "      <td>Europe</td>\n",
       "    </tr>\n",
       "    <tr>\n",
       "      <th>Japan</th>\n",
       "      <td>127.061</td>\n",
       "      <td>4602367</td>\n",
       "      <td>377930</td>\n",
       "      <td>0.891</td>\n",
       "      <td>Asia</td>\n",
       "    </tr>\n",
       "    <tr>\n",
       "      <th>United Kingdom</th>\n",
       "      <td>64.511</td>\n",
       "      <td>2950039</td>\n",
       "      <td>242495</td>\n",
       "      <td>0.907</td>\n",
       "      <td>Europe</td>\n",
       "    </tr>\n",
       "    <tr>\n",
       "      <th>United States</th>\n",
       "      <td>318.523</td>\n",
       "      <td>17348075</td>\n",
       "      <td>9525067</td>\n",
       "      <td>0.915</td>\n",
       "      <td>America</td>\n",
       "    </tr>\n",
       "  </tbody>\n",
       "</table>\n",
       "</div>"
      ],
      "text/plain": [
       "                Population       GDP  Surface Area    HDI Continent\n",
       "Canada              35.467   1785387       9984670  0.913   America\n",
       "France              63.951   2833687        640679  0.888    Europe\n",
       "Germany             80.940   3874437        357114  0.916    Europe\n",
       "Italy               60.665   2167744        301336  0.873    Europe\n",
       "Japan              127.061   4602367        377930  0.891      Asia\n",
       "United Kingdom      64.511   2950039        242495  0.907    Europe\n",
       "United States      318.523  17348075       9525067  0.915   America"
      ]
     },
     "execution_count": 36,
     "metadata": {},
     "output_type": "execute_result"
    }
   ],
   "source": [
    "# dropping columns\n",
    "df.drop(columns='Language', inplace=True)\n",
    "df"
   ]
  },
  {
   "cell_type": "code",
   "execution_count": 37,
   "id": "09cd984d",
   "metadata": {
    "scrolled": true
   },
   "outputs": [
    {
     "name": "stderr",
     "output_type": "stream",
     "text": [
      "C:\\Users\\My Pc\\AppData\\Local\\Temp\\ipykernel_6352\\2397322110.py:2: FutureWarning: The frame.append method is deprecated and will be removed from pandas in a future version. Use pandas.concat instead.\n",
      "  df.append(pd.Series({'Population':3,'GDP':5}, name='China'))\n"
     ]
    },
    {
     "data": {
      "text/html": [
       "<div>\n",
       "<style scoped>\n",
       "    .dataframe tbody tr th:only-of-type {\n",
       "        vertical-align: middle;\n",
       "    }\n",
       "\n",
       "    .dataframe tbody tr th {\n",
       "        vertical-align: top;\n",
       "    }\n",
       "\n",
       "    .dataframe thead th {\n",
       "        text-align: right;\n",
       "    }\n",
       "</style>\n",
       "<table border=\"1\" class=\"dataframe\">\n",
       "  <thead>\n",
       "    <tr style=\"text-align: right;\">\n",
       "      <th></th>\n",
       "      <th>Population</th>\n",
       "      <th>GDP</th>\n",
       "      <th>Surface Area</th>\n",
       "      <th>HDI</th>\n",
       "      <th>Continent</th>\n",
       "    </tr>\n",
       "  </thead>\n",
       "  <tbody>\n",
       "    <tr>\n",
       "      <th>Canada</th>\n",
       "      <td>35.467</td>\n",
       "      <td>1785387</td>\n",
       "      <td>9984670.0</td>\n",
       "      <td>0.913</td>\n",
       "      <td>America</td>\n",
       "    </tr>\n",
       "    <tr>\n",
       "      <th>France</th>\n",
       "      <td>63.951</td>\n",
       "      <td>2833687</td>\n",
       "      <td>640679.0</td>\n",
       "      <td>0.888</td>\n",
       "      <td>Europe</td>\n",
       "    </tr>\n",
       "    <tr>\n",
       "      <th>Germany</th>\n",
       "      <td>80.940</td>\n",
       "      <td>3874437</td>\n",
       "      <td>357114.0</td>\n",
       "      <td>0.916</td>\n",
       "      <td>Europe</td>\n",
       "    </tr>\n",
       "    <tr>\n",
       "      <th>Italy</th>\n",
       "      <td>60.665</td>\n",
       "      <td>2167744</td>\n",
       "      <td>301336.0</td>\n",
       "      <td>0.873</td>\n",
       "      <td>Europe</td>\n",
       "    </tr>\n",
       "    <tr>\n",
       "      <th>Japan</th>\n",
       "      <td>127.061</td>\n",
       "      <td>4602367</td>\n",
       "      <td>377930.0</td>\n",
       "      <td>0.891</td>\n",
       "      <td>Asia</td>\n",
       "    </tr>\n",
       "    <tr>\n",
       "      <th>United Kingdom</th>\n",
       "      <td>64.511</td>\n",
       "      <td>2950039</td>\n",
       "      <td>242495.0</td>\n",
       "      <td>0.907</td>\n",
       "      <td>Europe</td>\n",
       "    </tr>\n",
       "    <tr>\n",
       "      <th>United States</th>\n",
       "      <td>318.523</td>\n",
       "      <td>17348075</td>\n",
       "      <td>9525067.0</td>\n",
       "      <td>0.915</td>\n",
       "      <td>America</td>\n",
       "    </tr>\n",
       "    <tr>\n",
       "      <th>China</th>\n",
       "      <td>3.000</td>\n",
       "      <td>5</td>\n",
       "      <td>NaN</td>\n",
       "      <td>NaN</td>\n",
       "      <td>NaN</td>\n",
       "    </tr>\n",
       "  </tbody>\n",
       "</table>\n",
       "</div>"
      ],
      "text/plain": [
       "                Population       GDP  Surface Area    HDI Continent\n",
       "Canada              35.467   1785387     9984670.0  0.913   America\n",
       "France              63.951   2833687      640679.0  0.888    Europe\n",
       "Germany             80.940   3874437      357114.0  0.916    Europe\n",
       "Italy               60.665   2167744      301336.0  0.873    Europe\n",
       "Japan              127.061   4602367      377930.0  0.891      Asia\n",
       "United Kingdom      64.511   2950039      242495.0  0.907    Europe\n",
       "United States      318.523  17348075     9525067.0  0.915   America\n",
       "China                3.000         5           NaN    NaN       NaN"
      ]
     },
     "execution_count": 37,
     "metadata": {},
     "output_type": "execute_result"
    }
   ],
   "source": [
    "#Adding values\n",
    "df.append(pd.Series({'Population':3,'GDP':5}, name='China'))"
   ]
  },
  {
   "cell_type": "code",
   "execution_count": 39,
   "id": "f7f1f905",
   "metadata": {},
   "outputs": [
    {
     "data": {
      "text/html": [
       "<div>\n",
       "<style scoped>\n",
       "    .dataframe tbody tr th:only-of-type {\n",
       "        vertical-align: middle;\n",
       "    }\n",
       "\n",
       "    .dataframe tbody tr th {\n",
       "        vertical-align: top;\n",
       "    }\n",
       "\n",
       "    .dataframe thead th {\n",
       "        text-align: right;\n",
       "    }\n",
       "</style>\n",
       "<table border=\"1\" class=\"dataframe\">\n",
       "  <thead>\n",
       "    <tr style=\"text-align: right;\">\n",
       "      <th></th>\n",
       "      <th>Population</th>\n",
       "      <th>GDP</th>\n",
       "      <th>Surface Area</th>\n",
       "      <th>HDI</th>\n",
       "      <th>Continent</th>\n",
       "    </tr>\n",
       "  </thead>\n",
       "  <tbody>\n",
       "    <tr>\n",
       "      <th>Canada</th>\n",
       "      <td>3.546700e+01</td>\n",
       "      <td>1785387.0</td>\n",
       "      <td>9984670.0</td>\n",
       "      <td>0.913</td>\n",
       "      <td>America</td>\n",
       "    </tr>\n",
       "    <tr>\n",
       "      <th>France</th>\n",
       "      <td>6.395100e+01</td>\n",
       "      <td>2833687.0</td>\n",
       "      <td>640679.0</td>\n",
       "      <td>0.888</td>\n",
       "      <td>Europe</td>\n",
       "    </tr>\n",
       "    <tr>\n",
       "      <th>Germany</th>\n",
       "      <td>8.094000e+01</td>\n",
       "      <td>3874437.0</td>\n",
       "      <td>357114.0</td>\n",
       "      <td>0.916</td>\n",
       "      <td>Europe</td>\n",
       "    </tr>\n",
       "    <tr>\n",
       "      <th>Italy</th>\n",
       "      <td>6.066500e+01</td>\n",
       "      <td>2167744.0</td>\n",
       "      <td>301336.0</td>\n",
       "      <td>0.873</td>\n",
       "      <td>Europe</td>\n",
       "    </tr>\n",
       "    <tr>\n",
       "      <th>Japan</th>\n",
       "      <td>1.270610e+02</td>\n",
       "      <td>4602367.0</td>\n",
       "      <td>377930.0</td>\n",
       "      <td>0.891</td>\n",
       "      <td>Asia</td>\n",
       "    </tr>\n",
       "    <tr>\n",
       "      <th>United Kingdom</th>\n",
       "      <td>6.451100e+01</td>\n",
       "      <td>2950039.0</td>\n",
       "      <td>242495.0</td>\n",
       "      <td>0.907</td>\n",
       "      <td>Europe</td>\n",
       "    </tr>\n",
       "    <tr>\n",
       "      <th>United States</th>\n",
       "      <td>3.185230e+02</td>\n",
       "      <td>17348075.0</td>\n",
       "      <td>9525067.0</td>\n",
       "      <td>0.915</td>\n",
       "      <td>America</td>\n",
       "    </tr>\n",
       "    <tr>\n",
       "      <th>China</th>\n",
       "      <td>1.400000e+09</td>\n",
       "      <td>NaN</td>\n",
       "      <td>NaN</td>\n",
       "      <td>NaN</td>\n",
       "      <td>Asia</td>\n",
       "    </tr>\n",
       "  </tbody>\n",
       "</table>\n",
       "</div>"
      ],
      "text/plain": [
       "                  Population         GDP  Surface Area    HDI Continent\n",
       "Canada          3.546700e+01   1785387.0     9984670.0  0.913   America\n",
       "France          6.395100e+01   2833687.0      640679.0  0.888    Europe\n",
       "Germany         8.094000e+01   3874437.0      357114.0  0.916    Europe\n",
       "Italy           6.066500e+01   2167744.0      301336.0  0.873    Europe\n",
       "Japan           1.270610e+02   4602367.0      377930.0  0.891      Asia\n",
       "United Kingdom  6.451100e+01   2950039.0      242495.0  0.907    Europe\n",
       "United States   3.185230e+02  17348075.0     9525067.0  0.915   America\n",
       "China           1.400000e+09         NaN           NaN    NaN      Asia"
      ]
     },
     "execution_count": 39,
     "metadata": {},
     "output_type": "execute_result"
    }
   ],
   "source": [
    "#we can directly set the new index and values to the DataFrame\n",
    "\n",
    "df.loc['China'] = pd.Series({'Population': 1_400_000_000, 'Continent': 'Asia'})\n",
    "df"
   ]
  },
  {
   "cell_type": "code",
   "execution_count": 53,
   "id": "43771cee",
   "metadata": {},
   "outputs": [
    {
     "data": {
      "text/html": [
       "<div>\n",
       "<style scoped>\n",
       "    .dataframe tbody tr th:only-of-type {\n",
       "        vertical-align: middle;\n",
       "    }\n",
       "\n",
       "    .dataframe tbody tr th {\n",
       "        vertical-align: top;\n",
       "    }\n",
       "\n",
       "    .dataframe thead th {\n",
       "        text-align: right;\n",
       "    }\n",
       "</style>\n",
       "<table border=\"1\" class=\"dataframe\">\n",
       "  <thead>\n",
       "    <tr style=\"text-align: right;\">\n",
       "      <th></th>\n",
       "      <th>Population</th>\n",
       "      <th>GDP</th>\n",
       "      <th>Surface Area</th>\n",
       "      <th>HDI</th>\n",
       "      <th>Continent</th>\n",
       "      <th>GDP per Capita</th>\n",
       "    </tr>\n",
       "  </thead>\n",
       "  <tbody>\n",
       "    <tr>\n",
       "      <th>France</th>\n",
       "      <td>63.951</td>\n",
       "      <td>2833687.0</td>\n",
       "      <td>640679.0</td>\n",
       "      <td>0.888</td>\n",
       "      <td>Europe</td>\n",
       "      <td>44310.284437</td>\n",
       "    </tr>\n",
       "    <tr>\n",
       "      <th>Germany</th>\n",
       "      <td>80.940</td>\n",
       "      <td>3874437.0</td>\n",
       "      <td>357114.0</td>\n",
       "      <td>0.916</td>\n",
       "      <td>Europe</td>\n",
       "      <td>47868.013343</td>\n",
       "    </tr>\n",
       "    <tr>\n",
       "      <th>Japan</th>\n",
       "      <td>127.061</td>\n",
       "      <td>4602367.0</td>\n",
       "      <td>377930.0</td>\n",
       "      <td>0.891</td>\n",
       "      <td>Asia</td>\n",
       "      <td>36221.712406</td>\n",
       "    </tr>\n",
       "    <tr>\n",
       "      <th>United Kingdom</th>\n",
       "      <td>64.511</td>\n",
       "      <td>2950039.0</td>\n",
       "      <td>242495.0</td>\n",
       "      <td>0.907</td>\n",
       "      <td>Europe</td>\n",
       "      <td>45729.239975</td>\n",
       "    </tr>\n",
       "    <tr>\n",
       "      <th>United States</th>\n",
       "      <td>318.523</td>\n",
       "      <td>17348075.0</td>\n",
       "      <td>9525067.0</td>\n",
       "      <td>0.915</td>\n",
       "      <td>America</td>\n",
       "      <td>54464.120330</td>\n",
       "    </tr>\n",
       "  </tbody>\n",
       "</table>\n",
       "</div>"
      ],
      "text/plain": [
       "                Population         GDP  Surface Area    HDI Continent  \\\n",
       "France              63.951   2833687.0      640679.0  0.888    Europe   \n",
       "Germany             80.940   3874437.0      357114.0  0.916    Europe   \n",
       "Japan              127.061   4602367.0      377930.0  0.891      Asia   \n",
       "United Kingdom      64.511   2950039.0      242495.0  0.907    Europe   \n",
       "United States      318.523  17348075.0     9525067.0  0.915   America   \n",
       "\n",
       "                GDP per Capita  \n",
       "France            44310.284437  \n",
       "Germany           47868.013343  \n",
       "Japan             36221.712406  \n",
       "United Kingdom    45729.239975  \n",
       "United States     54464.120330  "
      ]
     },
     "execution_count": 53,
     "metadata": {},
     "output_type": "execute_result"
    }
   ],
   "source": [
    "#drop can be used to remove a row by index\n",
    "\n",
    "df.drop(df.index[0])"
   ]
  },
  {
   "cell_type": "markdown",
   "id": "b1b61464",
   "metadata": {},
   "source": [
    "### CREATING COLUMNS FROM OTHER COLUMNS"
   ]
  },
  {
   "cell_type": "code",
   "execution_count": 50,
   "id": "ba40a011",
   "metadata": {},
   "outputs": [
    {
     "data": {
      "text/plain": [
       "Canada            50339.385908\n",
       "France            44310.284437\n",
       "Germany           47868.013343\n",
       "Japan             36221.712406\n",
       "United Kingdom    45729.239975\n",
       "United States     54464.120330\n",
       "dtype: float64"
      ]
     },
     "execution_count": 50,
     "metadata": {},
     "output_type": "execute_result"
    }
   ],
   "source": [
    "df['GDP']/df['Population']"
   ]
  },
  {
   "cell_type": "code",
   "execution_count": 51,
   "id": "a0b561b7",
   "metadata": {},
   "outputs": [
    {
     "data": {
      "text/html": [
       "<div>\n",
       "<style scoped>\n",
       "    .dataframe tbody tr th:only-of-type {\n",
       "        vertical-align: middle;\n",
       "    }\n",
       "\n",
       "    .dataframe tbody tr th {\n",
       "        vertical-align: top;\n",
       "    }\n",
       "\n",
       "    .dataframe thead th {\n",
       "        text-align: right;\n",
       "    }\n",
       "</style>\n",
       "<table border=\"1\" class=\"dataframe\">\n",
       "  <thead>\n",
       "    <tr style=\"text-align: right;\">\n",
       "      <th></th>\n",
       "      <th>Population</th>\n",
       "      <th>GDP</th>\n",
       "      <th>Surface Area</th>\n",
       "      <th>HDI</th>\n",
       "      <th>Continent</th>\n",
       "      <th>GDP per Capita</th>\n",
       "    </tr>\n",
       "  </thead>\n",
       "  <tbody>\n",
       "    <tr>\n",
       "      <th>Canada</th>\n",
       "      <td>35.467</td>\n",
       "      <td>1785387.0</td>\n",
       "      <td>9984670.0</td>\n",
       "      <td>0.913</td>\n",
       "      <td>America</td>\n",
       "      <td>50339.385908</td>\n",
       "    </tr>\n",
       "    <tr>\n",
       "      <th>France</th>\n",
       "      <td>63.951</td>\n",
       "      <td>2833687.0</td>\n",
       "      <td>640679.0</td>\n",
       "      <td>0.888</td>\n",
       "      <td>Europe</td>\n",
       "      <td>44310.284437</td>\n",
       "    </tr>\n",
       "    <tr>\n",
       "      <th>Germany</th>\n",
       "      <td>80.940</td>\n",
       "      <td>3874437.0</td>\n",
       "      <td>357114.0</td>\n",
       "      <td>0.916</td>\n",
       "      <td>Europe</td>\n",
       "      <td>47868.013343</td>\n",
       "    </tr>\n",
       "    <tr>\n",
       "      <th>Japan</th>\n",
       "      <td>127.061</td>\n",
       "      <td>4602367.0</td>\n",
       "      <td>377930.0</td>\n",
       "      <td>0.891</td>\n",
       "      <td>Asia</td>\n",
       "      <td>36221.712406</td>\n",
       "    </tr>\n",
       "    <tr>\n",
       "      <th>United Kingdom</th>\n",
       "      <td>64.511</td>\n",
       "      <td>2950039.0</td>\n",
       "      <td>242495.0</td>\n",
       "      <td>0.907</td>\n",
       "      <td>Europe</td>\n",
       "      <td>45729.239975</td>\n",
       "    </tr>\n",
       "    <tr>\n",
       "      <th>United States</th>\n",
       "      <td>318.523</td>\n",
       "      <td>17348075.0</td>\n",
       "      <td>9525067.0</td>\n",
       "      <td>0.915</td>\n",
       "      <td>America</td>\n",
       "      <td>54464.120330</td>\n",
       "    </tr>\n",
       "  </tbody>\n",
       "</table>\n",
       "</div>"
      ],
      "text/plain": [
       "                Population         GDP  Surface Area    HDI Continent  \\\n",
       "Canada              35.467   1785387.0     9984670.0  0.913   America   \n",
       "France              63.951   2833687.0      640679.0  0.888    Europe   \n",
       "Germany             80.940   3874437.0      357114.0  0.916    Europe   \n",
       "Japan              127.061   4602367.0      377930.0  0.891      Asia   \n",
       "United Kingdom      64.511   2950039.0      242495.0  0.907    Europe   \n",
       "United States      318.523  17348075.0     9525067.0  0.915   America   \n",
       "\n",
       "                GDP per Capita  \n",
       "Canada            50339.385908  \n",
       "France            44310.284437  \n",
       "Germany           47868.013343  \n",
       "Japan             36221.712406  \n",
       "United Kingdom    45729.239975  \n",
       "United States     54464.120330  "
      ]
     },
     "execution_count": 51,
     "metadata": {},
     "output_type": "execute_result"
    }
   ],
   "source": [
    "df['GDP per Capita']=df['GDP']/df['Population']\n",
    "df"
   ]
  },
  {
   "cell_type": "code",
   "execution_count": 54,
   "id": "36b9446a",
   "metadata": {},
   "outputs": [
    {
     "data": {
      "text/html": [
       "<div>\n",
       "<style scoped>\n",
       "    .dataframe tbody tr th:only-of-type {\n",
       "        vertical-align: middle;\n",
       "    }\n",
       "\n",
       "    .dataframe tbody tr th {\n",
       "        vertical-align: top;\n",
       "    }\n",
       "\n",
       "    .dataframe thead th {\n",
       "        text-align: right;\n",
       "    }\n",
       "</style>\n",
       "<table border=\"1\" class=\"dataframe\">\n",
       "  <thead>\n",
       "    <tr style=\"text-align: right;\">\n",
       "      <th></th>\n",
       "      <th>Population</th>\n",
       "      <th>GDP</th>\n",
       "      <th>Surface Area</th>\n",
       "      <th>HDI</th>\n",
       "      <th>Continent</th>\n",
       "      <th>GDP per Capita</th>\n",
       "    </tr>\n",
       "  </thead>\n",
       "  <tbody>\n",
       "    <tr>\n",
       "      <th>Canada</th>\n",
       "      <td>35.467</td>\n",
       "      <td>1785387.0</td>\n",
       "      <td>9984670.0</td>\n",
       "      <td>0.913</td>\n",
       "      <td>America</td>\n",
       "      <td>50339.385908</td>\n",
       "    </tr>\n",
       "    <tr>\n",
       "      <th>France</th>\n",
       "      <td>63.951</td>\n",
       "      <td>2833687.0</td>\n",
       "      <td>640679.0</td>\n",
       "      <td>0.888</td>\n",
       "      <td>Europe</td>\n",
       "      <td>44310.284437</td>\n",
       "    </tr>\n",
       "    <tr>\n",
       "      <th>Germany</th>\n",
       "      <td>80.940</td>\n",
       "      <td>3874437.0</td>\n",
       "      <td>357114.0</td>\n",
       "      <td>0.916</td>\n",
       "      <td>Europe</td>\n",
       "      <td>47868.013343</td>\n",
       "    </tr>\n",
       "    <tr>\n",
       "      <th>Japan</th>\n",
       "      <td>127.061</td>\n",
       "      <td>4602367.0</td>\n",
       "      <td>377930.0</td>\n",
       "      <td>0.891</td>\n",
       "      <td>Asia</td>\n",
       "      <td>36221.712406</td>\n",
       "    </tr>\n",
       "    <tr>\n",
       "      <th>United Kingdom</th>\n",
       "      <td>64.511</td>\n",
       "      <td>2950039.0</td>\n",
       "      <td>242495.0</td>\n",
       "      <td>0.907</td>\n",
       "      <td>Europe</td>\n",
       "      <td>45729.239975</td>\n",
       "    </tr>\n",
       "    <tr>\n",
       "      <th>United States</th>\n",
       "      <td>318.523</td>\n",
       "      <td>17348075.0</td>\n",
       "      <td>9525067.0</td>\n",
       "      <td>0.915</td>\n",
       "      <td>America</td>\n",
       "      <td>54464.120330</td>\n",
       "    </tr>\n",
       "  </tbody>\n",
       "</table>\n",
       "</div>"
      ],
      "text/plain": [
       "                Population         GDP  Surface Area    HDI Continent  \\\n",
       "Canada              35.467   1785387.0     9984670.0  0.913   America   \n",
       "France              63.951   2833687.0      640679.0  0.888    Europe   \n",
       "Germany             80.940   3874437.0      357114.0  0.916    Europe   \n",
       "Japan              127.061   4602367.0      377930.0  0.891      Asia   \n",
       "United Kingdom      64.511   2950039.0      242495.0  0.907    Europe   \n",
       "United States      318.523  17348075.0     9525067.0  0.915   America   \n",
       "\n",
       "                GDP per Capita  \n",
       "Canada            50339.385908  \n",
       "France            44310.284437  \n",
       "Germany           47868.013343  \n",
       "Japan             36221.712406  \n",
       "United Kingdom    45729.239975  \n",
       "United States     54464.120330  "
      ]
     },
     "execution_count": 54,
     "metadata": {},
     "output_type": "execute_result"
    }
   ],
   "source": [
    "df"
   ]
  },
  {
   "cell_type": "code",
   "execution_count": 55,
   "id": "134100e0",
   "metadata": {},
   "outputs": [
    {
     "data": {
      "text/html": [
       "<div>\n",
       "<style scoped>\n",
       "    .dataframe tbody tr th:only-of-type {\n",
       "        vertical-align: middle;\n",
       "    }\n",
       "\n",
       "    .dataframe tbody tr th {\n",
       "        vertical-align: top;\n",
       "    }\n",
       "\n",
       "    .dataframe thead th {\n",
       "        text-align: right;\n",
       "    }\n",
       "</style>\n",
       "<table border=\"1\" class=\"dataframe\">\n",
       "  <thead>\n",
       "    <tr style=\"text-align: right;\">\n",
       "      <th></th>\n",
       "      <th>Population</th>\n",
       "      <th>GDP</th>\n",
       "      <th>Surface Area</th>\n",
       "      <th>HDI</th>\n",
       "      <th>Continent</th>\n",
       "      <th>GDP per Capita</th>\n",
       "    </tr>\n",
       "  </thead>\n",
       "  <tbody>\n",
       "    <tr>\n",
       "      <th>Canada</th>\n",
       "      <td>35.467</td>\n",
       "      <td>1785387.0</td>\n",
       "      <td>9984670.0</td>\n",
       "      <td>0.913</td>\n",
       "      <td>America</td>\n",
       "      <td>50339.385908</td>\n",
       "    </tr>\n",
       "    <tr>\n",
       "      <th>France</th>\n",
       "      <td>63.951</td>\n",
       "      <td>2833687.0</td>\n",
       "      <td>640679.0</td>\n",
       "      <td>0.888</td>\n",
       "      <td>Europe</td>\n",
       "      <td>44310.284437</td>\n",
       "    </tr>\n",
       "    <tr>\n",
       "      <th>Germany</th>\n",
       "      <td>80.940</td>\n",
       "      <td>3874437.0</td>\n",
       "      <td>357114.0</td>\n",
       "      <td>0.916</td>\n",
       "      <td>Europe</td>\n",
       "      <td>47868.013343</td>\n",
       "    </tr>\n",
       "    <tr>\n",
       "      <th>Japan</th>\n",
       "      <td>127.061</td>\n",
       "      <td>4602367.0</td>\n",
       "      <td>377930.0</td>\n",
       "      <td>0.891</td>\n",
       "      <td>Asia</td>\n",
       "      <td>36221.712406</td>\n",
       "    </tr>\n",
       "    <tr>\n",
       "      <th>United Kingdom</th>\n",
       "      <td>64.511</td>\n",
       "      <td>2950039.0</td>\n",
       "      <td>242495.0</td>\n",
       "      <td>0.907</td>\n",
       "      <td>Europe</td>\n",
       "      <td>45729.239975</td>\n",
       "    </tr>\n",
       "  </tbody>\n",
       "</table>\n",
       "</div>"
      ],
      "text/plain": [
       "                Population        GDP  Surface Area    HDI Continent  \\\n",
       "Canada              35.467  1785387.0     9984670.0  0.913   America   \n",
       "France              63.951  2833687.0      640679.0  0.888    Europe   \n",
       "Germany             80.940  3874437.0      357114.0  0.916    Europe   \n",
       "Japan              127.061  4602367.0      377930.0  0.891      Asia   \n",
       "United Kingdom      64.511  2950039.0      242495.0  0.907    Europe   \n",
       "\n",
       "                GDP per Capita  \n",
       "Canada            50339.385908  \n",
       "France            44310.284437  \n",
       "Germany           47868.013343  \n",
       "Japan             36221.712406  \n",
       "United Kingdom    45729.239975  "
      ]
     },
     "execution_count": 55,
     "metadata": {},
     "output_type": "execute_result"
    }
   ],
   "source": [
    "###STATISTICS\n",
    "df.head()"
   ]
  },
  {
   "cell_type": "code",
   "execution_count": 56,
   "id": "05847d1b",
   "metadata": {},
   "outputs": [
    {
     "data": {
      "text/html": [
       "<div>\n",
       "<style scoped>\n",
       "    .dataframe tbody tr th:only-of-type {\n",
       "        vertical-align: middle;\n",
       "    }\n",
       "\n",
       "    .dataframe tbody tr th {\n",
       "        vertical-align: top;\n",
       "    }\n",
       "\n",
       "    .dataframe thead th {\n",
       "        text-align: right;\n",
       "    }\n",
       "</style>\n",
       "<table border=\"1\" class=\"dataframe\">\n",
       "  <thead>\n",
       "    <tr style=\"text-align: right;\">\n",
       "      <th></th>\n",
       "      <th>Population</th>\n",
       "      <th>GDP</th>\n",
       "      <th>Surface Area</th>\n",
       "      <th>HDI</th>\n",
       "      <th>GDP per Capita</th>\n",
       "    </tr>\n",
       "  </thead>\n",
       "  <tbody>\n",
       "    <tr>\n",
       "      <th>count</th>\n",
       "      <td>6.00000</td>\n",
       "      <td>6.000000e+00</td>\n",
       "      <td>6.000000e+00</td>\n",
       "      <td>6.000000</td>\n",
       "      <td>6.000000</td>\n",
       "    </tr>\n",
       "    <tr>\n",
       "      <th>mean</th>\n",
       "      <td>115.07550</td>\n",
       "      <td>5.565665e+06</td>\n",
       "      <td>3.521326e+06</td>\n",
       "      <td>0.905000</td>\n",
       "      <td>46488.792733</td>\n",
       "    </tr>\n",
       "    <tr>\n",
       "      <th>std</th>\n",
       "      <td>104.12278</td>\n",
       "      <td>5.851651e+06</td>\n",
       "      <td>4.832427e+06</td>\n",
       "      <td>0.012442</td>\n",
       "      <td>6181.762286</td>\n",
       "    </tr>\n",
       "    <tr>\n",
       "      <th>min</th>\n",
       "      <td>35.46700</td>\n",
       "      <td>1.785387e+06</td>\n",
       "      <td>2.424950e+05</td>\n",
       "      <td>0.888000</td>\n",
       "      <td>36221.712406</td>\n",
       "    </tr>\n",
       "    <tr>\n",
       "      <th>25%</th>\n",
       "      <td>64.09100</td>\n",
       "      <td>2.862775e+06</td>\n",
       "      <td>3.623180e+05</td>\n",
       "      <td>0.895000</td>\n",
       "      <td>44665.023321</td>\n",
       "    </tr>\n",
       "    <tr>\n",
       "      <th>50%</th>\n",
       "      <td>72.72550</td>\n",
       "      <td>3.412238e+06</td>\n",
       "      <td>5.093045e+05</td>\n",
       "      <td>0.910000</td>\n",
       "      <td>46798.626659</td>\n",
       "    </tr>\n",
       "    <tr>\n",
       "      <th>75%</th>\n",
       "      <td>115.53075</td>\n",
       "      <td>4.420384e+06</td>\n",
       "      <td>7.303970e+06</td>\n",
       "      <td>0.914500</td>\n",
       "      <td>49721.542767</td>\n",
       "    </tr>\n",
       "    <tr>\n",
       "      <th>max</th>\n",
       "      <td>318.52300</td>\n",
       "      <td>1.734808e+07</td>\n",
       "      <td>9.984670e+06</td>\n",
       "      <td>0.916000</td>\n",
       "      <td>54464.120330</td>\n",
       "    </tr>\n",
       "  </tbody>\n",
       "</table>\n",
       "</div>"
      ],
      "text/plain": [
       "       Population           GDP  Surface Area       HDI  GDP per Capita\n",
       "count     6.00000  6.000000e+00  6.000000e+00  6.000000        6.000000\n",
       "mean    115.07550  5.565665e+06  3.521326e+06  0.905000    46488.792733\n",
       "std     104.12278  5.851651e+06  4.832427e+06  0.012442     6181.762286\n",
       "min      35.46700  1.785387e+06  2.424950e+05  0.888000    36221.712406\n",
       "25%      64.09100  2.862775e+06  3.623180e+05  0.895000    44665.023321\n",
       "50%      72.72550  3.412238e+06  5.093045e+05  0.910000    46798.626659\n",
       "75%     115.53075  4.420384e+06  7.303970e+06  0.914500    49721.542767\n",
       "max     318.52300  1.734808e+07  9.984670e+06  0.916000    54464.120330"
      ]
     },
     "execution_count": 56,
     "metadata": {},
     "output_type": "execute_result"
    }
   ],
   "source": [
    "df.describe()"
   ]
  },
  {
   "cell_type": "code",
   "execution_count": 58,
   "id": "511e3b54",
   "metadata": {},
   "outputs": [
    {
     "data": {
      "text/plain": [
       "(35.467, 318.523)"
      ]
     },
     "execution_count": 58,
     "metadata": {},
     "output_type": "execute_result"
    }
   ],
   "source": [
    "population = df['Population']\n",
    "population.min(), population.max()"
   ]
  },
  {
   "cell_type": "code",
   "execution_count": 59,
   "id": "8505387f",
   "metadata": {},
   "outputs": [
    {
     "data": {
      "text/plain": [
       "count      6.00000\n",
       "mean     115.07550\n",
       "std      104.12278\n",
       "min       35.46700\n",
       "25%       64.09100\n",
       "50%       72.72550\n",
       "75%      115.53075\n",
       "max      318.52300\n",
       "Name: Population, dtype: float64"
      ]
     },
     "execution_count": 59,
     "metadata": {},
     "output_type": "execute_result"
    }
   ],
   "source": [
    "population.describe()"
   ]
  },
  {
   "cell_type": "code",
   "execution_count": 60,
   "id": "10f832a4",
   "metadata": {},
   "outputs": [
    {
     "data": {
      "text/plain": [
       "<bound method NDFrame._add_numeric_operations.<locals>.mean of Canada             35.467\n",
       "France             63.951\n",
       "Germany            80.940\n",
       "Japan             127.061\n",
       "United Kingdom     64.511\n",
       "United States     318.523\n",
       "Name: Population, dtype: float64>"
      ]
     },
     "execution_count": 60,
     "metadata": {},
     "output_type": "execute_result"
    }
   ],
   "source": [
    "population.mean"
   ]
  },
  {
   "cell_type": "code",
   "execution_count": 61,
   "id": "2d7e7531",
   "metadata": {},
   "outputs": [
    {
     "data": {
      "text/plain": [
       "72.7255"
      ]
     },
     "execution_count": 61,
     "metadata": {},
     "output_type": "execute_result"
    }
   ],
   "source": [
    "population.median()"
   ]
  },
  {
   "cell_type": "code",
   "execution_count": 62,
   "id": "d391f73e",
   "metadata": {},
   "outputs": [
    {
     "data": {
      "text/plain": [
       "10841.553251900003"
      ]
     },
     "execution_count": 62,
     "metadata": {},
     "output_type": "execute_result"
    }
   ],
   "source": [
    "population.var()"
   ]
  },
  {
   "cell_type": "code",
   "execution_count": 63,
   "id": "57ba680c",
   "metadata": {},
   "outputs": [
    {
     "data": {
      "text/plain": [
       "64.091"
      ]
     },
     "execution_count": 63,
     "metadata": {},
     "output_type": "execute_result"
    }
   ],
   "source": [
    "population.quantile(.25)"
   ]
  },
  {
   "cell_type": "code",
   "execution_count": 64,
   "id": "a820a136",
   "metadata": {},
   "outputs": [
    {
     "data": {
      "text/plain": [
       "690.453"
      ]
     },
     "execution_count": 64,
     "metadata": {},
     "output_type": "execute_result"
    }
   ],
   "source": [
    "population.sum()"
   ]
  },
  {
   "cell_type": "code",
   "execution_count": 65,
   "id": "6ef8fcd9",
   "metadata": {},
   "outputs": [
    {
     "data": {
      "text/plain": [
       "115.07549999999999"
      ]
     },
     "execution_count": 65,
     "metadata": {},
     "output_type": "execute_result"
    }
   ],
   "source": [
    "population.sum() / len(population)"
   ]
  },
  {
   "cell_type": "code",
   "execution_count": null,
   "id": "aa4f52c0",
   "metadata": {},
   "outputs": [],
   "source": []
  }
 ],
 "metadata": {
  "kernelspec": {
   "display_name": "Python 3 (ipykernel)",
   "language": "python",
   "name": "python3"
  },
  "language_info": {
   "codemirror_mode": {
    "name": "ipython",
    "version": 3
   },
   "file_extension": ".py",
   "mimetype": "text/x-python",
   "name": "python",
   "nbconvert_exporter": "python",
   "pygments_lexer": "ipython3",
   "version": "3.11.1"
  }
 },
 "nbformat": 4,
 "nbformat_minor": 5
}
